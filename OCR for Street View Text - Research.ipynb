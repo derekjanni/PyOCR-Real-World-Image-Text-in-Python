{
 "cells": [
  {
   "cell_type": "markdown",
   "metadata": {},
   "source": [
    "# Optical Character Recognition In Python\n",
    "\n",
    "This is a study of a topic that's been addressed many times\n"
   ]
  },
  {
   "cell_type": "markdown",
   "metadata": {},
   "source": [
    "$\\S 1:$ **Introduction: Optical Character Recognition**\n",
    "\n",
    "OCR is a topic in machine learning that has been widely studied. Using a part of the (also well-known) [Char74](http://www.ee.surrey.ac.uk/CVSSP/demos/chars74k/) dataset, I develop multiple classifier models for street-view characters obtained from Google maps. \n",
    "\n",
    "This project is rather code-heavy, but if you're familiar with the way `scikit-learn` works it shouldn't require too much explanation. If you're not, feel free to reach out to me with questions/comments directly at derekjanni@gmail.com\n",
    "\n",
    "For a basic roadmap of what's in this notebook:\n",
    "\n",
    "1. Introduction \n",
    "2. Data Import & Cleaning\n",
    "3. Evaluating Models by Score\n",
    "4. Testing the model yourself!\n",
    "5. First Attempt at HOG\n",
    "6. Exporting Data as JSON for visualization"
   ]
  },
  {
   "cell_type": "code",
   "execution_count": 15,
   "metadata": {
    "collapsed": true
   },
   "outputs": [],
   "source": [
    "# sklearn models\n",
    "from sklearn.neighbors import KNeighborsClassifier\n",
    "from sklearn.naive_bayes import GaussianNB\n",
    "from sklearn.svm import SVC\n",
    "from sklearn.svm import LinearSVC\n",
    "from sklearn.tree import DecisionTreeClassifier\n",
    "from sklearn.ensemble import RandomForestClassifier, GradientBoostingClassifier\n",
    "from sklearn import linear_model\n",
    "from sklearn.naive_bayes import BernoulliNB\n",
    "from sklearn.naive_bayes import MultinomialNB\n",
    "\n",
    "# wow even more sklearn stuff\n",
    "from sklearn.preprocessing import scale\n",
    "from sklearn.preprocessing import StandardScaler\n",
    "from sklearn.decomposition import PCA\n",
    "from sklearn.grid_search import GridSearchCV\n",
    "\n",
    "# sklearn metrics\n",
    "from sklearn.metrics import accuracy_score\n",
    "from sklearn.metrics import precision_score\n",
    "from sklearn.metrics import recall_score\n",
    "from sklearn.metrics import f1_score\n",
    "from sklearn.metrics import roc_curve \n",
    "from sklearn.metrics import auc\n",
    "from sklearn.metrics import classification_report\n",
    "from sklearn.learning_curve import learning_curve\n",
    "from sklearn.cross_validation import cross_val_score\n",
    "from sklearn.cross_validation import train_test_split\n",
    "\n",
    "# graphs\n",
    "import matplotlib.pyplot as plt\n",
    "import seaborn as sns\n",
    "%matplotlib inline\n",
    "\n",
    "# images\n",
    "from scipy.ndimage import convolve, rotate\n",
    "from skimage.feature import hog\n",
    "from skimage import draw, data, io, segmentation, color, exposure\n",
    "from skimage.measure import regionprops\n",
    "from skimage.filters import threshold_otsu\n",
    "from skimage.transform import resize \n",
    "from skimage.transform import warp \n",
    "from PIL import Image\n",
    "\n",
    "# basics\n",
    "import pickle\n",
    "import pandas as pd\n",
    "import numpy as np\n",
    "from pprint import pprint"
   ]
  },
  {
   "cell_type": "markdown",
   "metadata": {},
   "source": [
    "$\\S 2:$ **Importing and Cleaning the Data**\n",
    "\n",
    "The data comes in as a folder of raw images, and a .csv with accompanying labels. The code below provides the following functionality:\n",
    "\n",
    "- Import raw image by filename (needs to be .Bmp)\n",
    "- Convert to Grayscale\n",
    "- Use Otsu's Thresholding method to reduce noise\n",
    "- Define \"Nudging\" to widen dataset and account for variance in signal location in image (used below on training data)\n",
    "- Convert images to 1D np array of values\n",
    "\n",
    "In the future, the following functionality should be added:\n",
    "\n",
    "- Add Skewed images to training data\n",
    "- Increase size of dataset"
   ]
  },
  {
   "cell_type": "code",
   "execution_count": 20,
   "metadata": {
    "collapsed": false,
    "scrolled": true
   },
   "outputs": [],
   "source": [
    "import math\n",
    "import cv2\n",
    "\n",
    "def img_round(x, base=75):\n",
    "    \"\"\"\n",
    "    Now useless function (replaced by binarization) for flattening image data\n",
    "    \"\"\"\n",
    "    return (base * math.floor(float(x)/base))\n",
    "vround = np.vectorize(img_round) \n",
    "\n",
    "def get_img(i, size):\n",
    "    \"\"\"\n",
    "    Returns a binary image from my file directory with index i\n",
    "    \"\"\"\n",
    "    img = Image.open('/users/derekjanni/pyocr/train/'+ str(i+1) + '.Bmp')\n",
    "    img = img.convert(\"L\")\n",
    "    img = img.resize((size,size))\n",
    "    image = np.asarray(img)\n",
    "    image.setflags(write=True)\n",
    "    thresh = threshold_otsu(image)\n",
    "    binary = image > thresh\n",
    "    return binary\n",
    "\n",
    "def nudge_dataset(X, Y, size):\n",
    "    \"\"\"\n",
    "    This produces a dataset 5 times bigger than the original one,\n",
    "    by moving the (size x size) images around by 1px to left, right, down, up\n",
    "    \"\"\"\n",
    "    direction_vectors = [\n",
    "        [[0, 1, 0],\n",
    "         [0, 0, 0],\n",
    "         [0, 0, 0]],\n",
    "\n",
    "        [[0, 0, 0],\n",
    "         [1, 0, 0],\n",
    "         [0, 0, 0]],\n",
    "\n",
    "        [[0, 0, 0],\n",
    "         [0, 0, 1],\n",
    "         [0, 0, 0]],\n",
    "\n",
    "        [[0, 0, 0],\n",
    "         [0, 0, 0],\n",
    "         [0, 1, 0]]]\n",
    "\n",
    "    shift = lambda x, w: convolve(x.reshape((size, size)), mode='constant',\n",
    "                                  weights=w).ravel()\n",
    "    #add nudged data\n",
    "    X = np.concatenate([X] +\n",
    "                       [np.apply_along_axis(shift, 1, X, vector)\n",
    "                        for vector in direction_vectors])\n",
    "    Y = np.concatenate([Y for _ in range(5)], axis=0)\n",
    "\n",
    "    return X, Y\n",
    "\n",
    "def show_img(img):\n",
    "    width = 5.0\n",
    "    height = img.shape[0]*width/img.shape[1]\n",
    "    f = plt.figure(figsize=(width, height))\n",
    "    plt.imshow(img)"
   ]
  },
  {
   "cell_type": "code",
   "execution_count": 9,
   "metadata": {
    "collapsed": false
   },
   "outputs": [
    {
     "name": "stdout",
     "output_type": "stream",
     "text": [
      "(6283, 2500) (6283,)\n"
     ]
    }
   ],
   "source": [
    "df = pd.read_csv('trainLabels.csv', header=0)\n",
    "raw_y = np.asarray(df['Class'])\n",
    "raw_x = np.asarray([get_img(i, 50) for i in df.index]).astype(float)\n",
    "x = np.asarray([i.ravel() for i in raw_x])\n",
    "y = raw_y\n",
    "print x.shape, y.shape"
   ]
  },
  {
   "cell_type": "code",
   "execution_count": 34,
   "metadata": {
    "collapsed": false
   },
   "outputs": [
    {
     "name": "stdout",
     "output_type": "stream",
     "text": [
      "(6283, 50, 50) (6283,)\n"
     ]
    }
   ],
   "source": [
    "# altered version for DNN data\n",
    "df = pd.read_csv('trainLabels.csv', header=0)\n",
    "raw_y = np.asarray(df['Class'])\n",
    "raw_x = np.asarray([get_img(i, 50) for i in df.index]).astype(float)\n",
    "x = np.asarray([i for i in raw_x])\n",
    "Y = raw_y\n",
    "X = x.reshape(-1, 1, 50, 50)\n",
    "print x.shape, y.shape\n",
    "\n",
    "X_train, X_test, Y_train, Y_test = X[:5000], X[5000:], Y[:5000], Y[5000:]\n",
    "\n",
    "with open('char_data_cnn.pkl', 'w') as outfile:\n",
    "    pickle.dump([X_train, Y_train, X_test, Y_test], outfile)"
   ]
  },
  {
   "cell_type": "markdown",
   "metadata": {},
   "source": [
    "$\\S 3:$ **Setting Up Some Models**\n",
    "\n",
    "I've run just about every classifier algorithm known to man on this dataset, with varying results. I've limited the number of models that I run for sake of time: we'll be running a lot of images through this program, which means it takes a lot of time. Below are three of the best and most intuitive methods. A few notes:\n",
    "\n",
    "- Bernoulli Naive Bayes is an intuitive solution as it expects binary data (which is what Otsu's method returns) to predict a binary outcome (either this string is or is not the letter \"A\", for instance). This method doesn't abuse nudging as well as its counterparts, as we'll see below.\n",
    "\n",
    "- If you disable the line below that performs the \"nudging\" you'll see that performance of KNN and Random Forest decreases rather dramatically! That's pretty interesting, but it should be intuitive why nudging in directions is effective!\n",
    "\n",
    "A necessary improvement is to account for skew in input images, or to naturally deskew them upon entering them."
   ]
  },
  {
   "cell_type": "code",
   "execution_count": 30,
   "metadata": {
    "collapsed": false
   },
   "outputs": [],
   "source": [
    "from sklearn.cross_validation import train_test_split\n",
    "X_train, X_test, Y_train, Y_test = train_test_split(x, y)\n",
    "\n",
    "#nudge dataset improves performance: test and see!\n",
    "X_train, Y_train = nudge_dataset(X_train, Y_train, 50)\n",
    "\n",
    "with open('char_data.pkl', 'w') as outfile:\n",
    "    pickle.dump([X_train, Y_train, X_test, Y_test], outfile)"
   ]
  },
  {
   "cell_type": "code",
   "execution_count": 24,
   "metadata": {
    "collapsed": false
   },
   "outputs": [
    {
     "name": "stdout",
     "output_type": "stream",
     "text": [
      "(23560, 2500) (23560,)\n",
      "Gradient Boosting Classifier:\n",
      "             precision    recall  f1-score   support\n",
      "\n",
      "          0       0.14      0.04      0.06        26\n",
      "          1       0.40      0.25      0.31        16\n",
      "          2       0.64      0.47      0.54        15\n",
      "          3       0.50      0.33      0.40         6\n",
      "          4       0.75      0.38      0.50         8\n",
      "          5       0.00      0.00      0.00        12\n",
      "          6       0.75      0.20      0.32        15\n",
      "          7       0.50      0.12      0.20         8\n",
      "          8       0.00      0.00      0.00         5\n",
      "          9       0.00      0.00      0.00         9\n",
      "          A       0.59      0.85      0.69       112\n",
      "          B       0.40      0.17      0.24        24\n",
      "          C       0.44      0.71      0.54        31\n",
      "          D       0.35      0.43      0.38        35\n",
      "          E       0.57      0.84      0.68        93\n",
      "          F       0.67      0.35      0.46        17\n",
      "          G       0.53      0.31      0.39        29\n",
      "          H       0.62      0.33      0.43        39\n",
      "          I       0.42      0.72      0.53        61\n",
      "          J       0.33      0.10      0.15        20\n",
      "          K       0.60      0.39      0.47        23\n",
      "          L       0.70      0.81      0.75        37\n",
      "          M       0.61      0.65      0.63        26\n",
      "          N       0.61      0.79      0.69        67\n",
      "          O       0.45      0.65      0.53        79\n",
      "          P       0.56      0.53      0.54        38\n",
      "          Q       0.00      0.00      0.00         4\n",
      "          R       0.43      0.75      0.55        65\n",
      "          S       0.42      0.72      0.53        65\n",
      "          T       0.61      0.81      0.70        70\n",
      "          U       0.50      0.45      0.48        22\n",
      "          V       0.27      0.27      0.27        15\n",
      "          W       0.38      0.29      0.33        17\n",
      "          X       0.00      0.00      0.00        10\n",
      "          Y       0.50      0.18      0.26        17\n",
      "          Z       0.00      0.00      0.00        15\n",
      "          a       0.45      0.47      0.46        36\n",
      "          b       0.00      0.00      0.00         8\n",
      "          c       0.00      0.00      0.00        10\n",
      "          d       0.44      0.78      0.56         9\n",
      "          e       0.61      0.52      0.56        60\n",
      "          f       0.00      0.00      0.00         6\n",
      "          g       0.00      0.00      0.00         7\n",
      "          h       1.00      0.33      0.50        12\n",
      "          i       0.43      0.38      0.41        26\n",
      "          j       0.00      0.00      0.00         4\n",
      "          k       0.00      0.00      0.00         6\n",
      "          l       0.00      0.00      0.00        14\n",
      "          m       0.33      0.15      0.21        13\n",
      "          n       0.57      0.50      0.53        34\n",
      "          o       0.27      0.08      0.12        37\n",
      "          p       0.50      0.10      0.17        10\n",
      "          q       0.00      0.00      0.00         8\n",
      "          r       0.52      0.52      0.52        27\n",
      "          s       0.20      0.11      0.14        27\n",
      "          t       0.58      0.27      0.37        26\n",
      "          u       0.25      0.12      0.17         8\n",
      "          v       0.00      0.00      0.00         7\n",
      "          w       0.00      0.00      0.00         8\n",
      "          x       0.25      0.17      0.20         6\n",
      "          y       0.00      0.00      0.00         6\n",
      "          z       0.00      0.00      0.00         5\n",
      "\n",
      "avg / total       0.46      0.50      0.45      1571\n",
      "\n"
     ]
    }
   ],
   "source": [
    "def precision_report(model):\n",
    "    model.fit(X_train, Y_train)\n",
    "    Y_pred = model.predict(X_test)\n",
    "    return classification_report(Y_test, Y_pred)\n",
    "\n",
    "# declare models for explicit-ness\n",
    "models = {'Gradient Boosting Classifier': GradientBoostingClassifier(n_estimators=50)\n",
    "          #'Random Forest Classifier': RandomForestClassifier()\n",
    "         }\n",
    "\n",
    "print X_train.shape, Y_train.shape\n",
    "for i in models:\n",
    "    print i + ':\\n' + str(precision_report(models[i]))"
   ]
  },
  {
   "cell_type": "markdown",
   "metadata": {},
   "source": [
    "So we see that KNN and Random Forest are our best predictors, on the whole. Lets see their accuracy scores as opposed to precision/recall, to get a feel for their actual performance\n"
   ]
  },
  {
   "cell_type": "code",
   "execution_count": 19,
   "metadata": {
    "collapsed": false
   },
   "outputs": [
    {
     "name": "stdout",
     "output_type": "stream",
     "text": [
      "Bernoulli Naive Bayes:\n",
      "0.0477402928071\n",
      "(5) K-Nearest Neighbors:\n",
      "0.558243157225\n",
      "Random Forest Classifier:\n",
      "0.532781667728\n"
     ]
    }
   ],
   "source": [
    "def accuracy_report(model):\n",
    "    model.fit(X_train, Y_train)\n",
    "    Y_pred = model.predict(X_test)\n",
    "    return accuracy_score(Y_test, Y_pred)\n",
    "\n",
    "for i in models:\n",
    "    print i + ':\\n' + str(accuracy_report(models[i]))"
   ]
  },
  {
   "cell_type": "markdown",
   "metadata": {},
   "source": [
    "To make my own life easier, I pickled the models here to pull them up later"
   ]
  },
  {
   "cell_type": "code",
   "execution_count": 20,
   "metadata": {
    "collapsed": false
   },
   "outputs": [],
   "source": [
    "# models\n",
    "knn = KNeighborsClassifier(n_neighbors=5)\n",
    "rfc = RandomForestClassifier()\n",
    "bnb = BernoulliNB()\n",
    "\n",
    "# fit\n",
    "knn.fit(X_train, Y_train)\n",
    "rfc.fit(X_train, Y_train)\n",
    "bnb.fit(X_train, Y_train)\n",
    "\n",
    "# pickle\n",
    "with open('knn.pkl', 'w') as picklefile:\n",
    "    pickle.dump(knn, picklefile)\n",
    "with open('rfc.pkl', 'w') as picklefile:\n",
    "    pickle.dump(rfc, picklefile)\n",
    "with open('bnb.pkl', 'w') as picklefile:\n",
    "    pickle.dump(bnb, picklefile)"
   ]
  },
  {
   "cell_type": "markdown",
   "metadata": {},
   "source": [
    "KNN is an interesting (and intuitive) solution to this problem, given the nudging technique. Lets see how the algorithm performs for varying K."
   ]
  },
  {
   "cell_type": "code",
   "execution_count": 21,
   "metadata": {
    "collapsed": false
   },
   "outputs": [
    {
     "data": {
      "text/plain": [
       "[<matplotlib.lines.Line2D at 0x1029e7b10>]"
      ]
     },
     "execution_count": 21,
     "metadata": {},
     "output_type": "execute_result"
    },
    {
     "data": {
      "image/png": "[encoded data removed]",
      "text/plain": [
       "<matplotlib.figure.Figure at 0x10ba56750>"
      ]
     },
     "metadata": {},
     "output_type": "display_data"
    }
   ],
   "source": [
    "from sklearn.cross_validation import train_test_split\n",
    "X_train, X_test, Y_train, Y_test = train_test_split(x, y, test_size=0.33, random_state=42)\n",
    "\n",
    "#nudge dataset improves performance: test and see!\n",
    "X_train, Y_train = nudge_dataset(X_train, Y_train, 50)\n",
    "\n",
    "def accuracy_knn(k):\n",
    "    neighbors = KNeighborsClassifier(n_neighbors=k)\n",
    "    neighbors.fit(X_train, Y_train)\n",
    "    return accuracy_score(Y_test, neighbors.predict(X_test))\n",
    "\n",
    "k = [i for i in range(1, 20)]\n",
    "acc_knn = [accuracy_knn(i) for i in range(1, 20)]\n",
    "plt.figure(figsize=(10,7)).suptitle(\"Accuracy Score vs. K in  KNN Classification\", fontsize='15')\n",
    "plt.xlabel('k', fontsize='15')\n",
    "plt.ylabel('Accuracy Score', fontsize='15')\n",
    "plt.plot(k, acc_knn)"
   ]
  },
  {
   "cell_type": "markdown",
   "metadata": {},
   "source": [
    "$\\S 4:$ **Testing the models with real images**\n",
    "\n",
    "Sometimes seeing really is believing, and it's fun to see how models perform on data for yourself! Use the code below to generate a random image and evaluate the computer's effectiveness at this task, as well as notice where it goes wrong.\n"
   ]
  },
  {
   "cell_type": "code",
   "execution_count": 22,
   "metadata": {
    "collapsed": false
   },
   "outputs": [],
   "source": [
    "with open('knn.pkl') as picklefile:\n",
    "    knn = pickle.load(picklefile)\n",
    "with open('rfc.pkl') as picklefile:\n",
    "    rfc = pickle.load(picklefile)"
   ]
  },
  {
   "cell_type": "code",
   "execution_count": 23,
   "metadata": {
    "collapsed": false,
    "scrolled": false
   },
   "outputs": [],
   "source": [
    "def get_test_img(i):\n",
    "    \"\"\"\n",
    "    Returns image from my file directory with corresponding index i\n",
    "    \"\"\"\n",
    "    img = Image.open('/users/derekjanni/pyocr/test/'+ str(i) + '.Bmp')\n",
    "    img = img.convert(\"L\")\n",
    "    img = img.resize((50,50))\n",
    "    image = np.asarray(img)\n",
    "    image.setflags(write=True)\n",
    "    thresh = threshold_otsu(image)\n",
    "    binary = image > thresh\n",
    "    return binary"
   ]
  },
  {
   "cell_type": "code",
   "execution_count": 24,
   "metadata": {
    "collapsed": false
   },
   "outputs": [
    {
     "name": "stdout",
     "output_type": "stream",
     "text": [
      "My Guess for this file is:I\n"
     ]
    },
    {
     "data": {
      "image/png": "[encoded data removed]",
      "text/plain": [
       "<matplotlib.figure.Figure at 0x1079cae10>"
      ]
     },
     "metadata": {},
     "output_type": "display_data"
    }
   ],
   "source": [
    "from random import randint\n",
    "\n",
    "random_image = randint(6284, 12503)\n",
    "print(\"My Guess for this file is:\" + str(knn.predict(get_test_img(random_image).ravel())).strip('[]\\''))\n",
    "show_img(get_test_img(random_image))"
   ]
  },
  {
   "cell_type": "markdown",
   "metadata": {},
   "source": [
    "The code below writes a submission for the relevant Kaggle competition. As of 8/5/2015 my model is among the top 10!"
   ]
  },
  {
   "cell_type": "code",
   "execution_count": 25,
   "metadata": {
    "collapsed": false
   },
   "outputs": [],
   "source": [
    "with open('submission2.csv', 'w') as outfile:\n",
    "    outfile.write('ID,Class\\n')\n",
    "    for i in range(6284, 12504):\n",
    "        pre = str(rfc.predict(get_test_img(i).ravel())).strip('[]\\'')\n",
    "        outfile.write(str(i) + ','+ pre +'\\n')"
   ]
  },
  {
   "cell_type": "markdown",
   "metadata": {},
   "source": [
    "$\\S 5:$ **Histogram of Oriented Gradients as a feature matrix**\n",
    "\n",
    "\n",
    "It might look like I've done really well here, however, part of this is cooked up: Since the images are nudged, there is a lot of overlap and repetitive labeling going on. What would be more interesting is if a HOG approach could better define letters! Lets see how KNN, RFC and LinearSVC perform on a Histogram of Oriented Gradients!"
   ]
  },
  {
   "cell_type": "code",
   "execution_count": 17,
   "metadata": {
    "collapsed": true
   },
   "outputs": [],
   "source": [
    "from sklearn.preprocessing import StandardScaler\n",
    "from sklearn.decomposition import PCA\n",
    "from sklearn.grid_search import GridSearchCV\n",
    "\n",
    "\n",
    "def get_hog(img):\n",
    "    fd, hog_image = hog(img, orientations=10, pixels_per_cell=(5, 5), cells_per_block=(2, 2), visualise=True)\n",
    "    return exposure.rescale_intensity(hog_image, in_range=(0, 0.9))\n",
    "    \n",
    "def get_img_hog(i, size):\n",
    "    \"\"\"\n",
    "    Returns a binary image from my file directory with index i\n",
    "    \"\"\"\n",
    "    img = Image.open('/users/derekjanni/pyocr/train/'+ str(i+1) + '.Bmp')\n",
    "    img = img.convert(\"L\")\n",
    "    img = img.resize((size,size))\n",
    "    image = np.asarray(img)\n",
    "    image.setflags(write=True)\n",
    "    thresh = threshold_otsu(image)\n",
    "    binary = image > thresh\n",
    "    return get_hog(binary)\n",
    "\n",
    "df = pd.read_csv('trainLabels.csv', header=0)\n",
    "raw_y = np.asarray(df['Class'])\n",
    "raw_x = np.asarray([get_img_hog(i, 50) for i in df.index]).astype(float)\n",
    "x = np.asarray([i.ravel() for i in raw_x])\n",
    "y = raw_y"
   ]
  },
  {
   "cell_type": "code",
   "execution_count": 18,
   "metadata": {
    "collapsed": true
   },
   "outputs": [],
   "source": [
    "# Standard Scaler\n",
    "ss = StandardScaler()\n",
    "x = ss.fit_transform(x)\n",
    "\n",
    "# PCA\n",
    "pca = PCA(n_components=1000)\n",
    "x = pca.fit_transform(x)"
   ]
  },
  {
   "cell_type": "code",
   "execution_count": 19,
   "metadata": {
    "collapsed": true
   },
   "outputs": [],
   "source": [
    "# params\n",
    "params_to_try = {\n",
    "    'C': [10**i for i in range(0, 2)],\n",
    "    'gamma': [10**i for i in range(-7, -5)],\n",
    "}\n",
    "\n",
    "# Grid Search\n",
    "gs = GridSearchCV(SVC(class_weight='auto', kernel='rbf', probability=True),\n",
    "                  param_grid=params_to_try,\n",
    "                  cv=3,\n",
    "                  scoring='roc_auc',\n",
    "                  n_jobs=4)\n",
    "\n",
    "from sklearn.cross_validation import train_test_split\n",
    "X_train, X_test, Y_train, Y_test = train_test_split(x, y, test_size=.2, random_state=42)\n",
    "\n",
    "#nudge dataset improves performance: test and see!\n",
    "# X_train, Y_train = nudge_dataset(X_train, Y_train, 50)"
   ]
  },
  {
   "cell_type": "code",
   "execution_count": 20,
   "metadata": {
    "collapsed": false
   },
   "outputs": [
    {
     "ename": "JoblibValueError",
     "evalue": "JoblibValueError\n___________________________________________________________________________\nMultiprocessing exception:\n    ...........................................................................\n//anaconda/lib/python2.7/runpy.py in _run_module_as_main(mod_name='IPython.kernel.__main__', alter_argv=1)\n    157     pkg_name = mod_name.rpartition('.')[0]\n    158     main_globals = sys.modules[\"__main__\"].__dict__\n    159     if alter_argv:\n    160         sys.argv[0] = fname\n    161     return _run_code(code, main_globals, None,\n--> 162                      \"__main__\", fname, loader, pkg_name)\n        fname = '/anaconda/lib/python2.7/site-packages/IPython/kernel/__main__.py'\n        loader = <pkgutil.ImpLoader instance>\n        pkg_name = 'IPython.kernel'\n    163 \n    164 def run_module(mod_name, init_globals=None,\n    165                run_name=None, alter_sys=False):\n    166     \"\"\"Execute a module's code without importing it\n\n...........................................................................\n//anaconda/lib/python2.7/runpy.py in _run_code(code=<code object <module> at 0x10564c7b0, file \"/ana...ite-packages/IPython/kernel/__main__.py\", line 1>, run_globals={'__builtins__': <module '__builtin__' (built-in)>, '__doc__': None, '__file__': '/anaconda/lib/python2.7/site-packages/IPython/kernel/__main__.py', '__loader__': <pkgutil.ImpLoader instance>, '__name__': '__main__', '__package__': 'IPython.kernel', 'app': <module 'IPython.kernel.zmq.kernelapp' from '//a.../site-packages/IPython/kernel/zmq/kernelapp.pyc'>}, init_globals=None, mod_name='__main__', mod_fname='/anaconda/lib/python2.7/site-packages/IPython/kernel/__main__.py', mod_loader=<pkgutil.ImpLoader instance>, pkg_name='IPython.kernel')\n     67         run_globals.update(init_globals)\n     68     run_globals.update(__name__ = mod_name,\n     69                        __file__ = mod_fname,\n     70                        __loader__ = mod_loader,\n     71                        __package__ = pkg_name)\n---> 72     exec code in run_globals\n        code = <code object <module> at 0x10564c7b0, file \"/ana...ite-packages/IPython/kernel/__main__.py\", line 1>\n        run_globals = {'__builtins__': <module '__builtin__' (built-in)>, '__doc__': None, '__file__': '/anaconda/lib/python2.7/site-packages/IPython/kernel/__main__.py', '__loader__': <pkgutil.ImpLoader instance>, '__name__': '__main__', '__package__': 'IPython.kernel', 'app': <module 'IPython.kernel.zmq.kernelapp' from '//a.../site-packages/IPython/kernel/zmq/kernelapp.pyc'>}\n     73     return run_globals\n     74 \n     75 def _run_module_code(code, init_globals=None,\n     76                     mod_name=None, mod_fname=None,\n\n...........................................................................\n/anaconda/lib/python2.7/site-packages/IPython/kernel/__main__.py in <module>()\n      1 \n      2 \n----> 3 \n      4 if __name__ == '__main__':\n      5     from IPython.kernel.zmq import kernelapp as app\n      6     app.launch_new_instance()\n      7 \n      8 \n      9 \n     10 \n\n...........................................................................\n//anaconda/lib/python2.7/site-packages/IPython/config/application.py in launch_instance(cls=<class 'IPython.kernel.zmq.kernelapp.IPKernelApp'>, argv=None, **kwargs={})\n    569         \n    570         If a global instance already exists, this reinitializes and starts it\n    571         \"\"\"\n    572         app = cls.instance(**kwargs)\n    573         app.initialize(argv)\n--> 574         app.start()\n        app.start = <bound method IPKernelApp.start of <IPython.kernel.zmq.kernelapp.IPKernelApp object>>\n    575 \n    576 #-----------------------------------------------------------------------------\n    577 # utility functions, for convenience\n    578 #-----------------------------------------------------------------------------\n\n...........................................................................\n//anaconda/lib/python2.7/site-packages/IPython/kernel/zmq/kernelapp.py in start(self=<IPython.kernel.zmq.kernelapp.IPKernelApp object>)\n    368     def start(self):\n    369         if self.poller is not None:\n    370             self.poller.start()\n    371         self.kernel.start()\n    372         try:\n--> 373             ioloop.IOLoop.instance().start()\n    374         except KeyboardInterrupt:\n    375             pass\n    376 \n    377 launch_new_instance = IPKernelApp.launch_instance\n\n...........................................................................\n//anaconda/lib/python2.7/site-packages/zmq/eventloop/ioloop.py in start(self=<zmq.eventloop.ioloop.ZMQIOLoop object>)\n    146             PollIOLoop.configure(ZMQIOLoop)\n    147         return PollIOLoop.instance()\n    148     \n    149     def start(self):\n    150         try:\n--> 151             super(ZMQIOLoop, self).start()\n        self.start = <bound method ZMQIOLoop.start of <zmq.eventloop.ioloop.ZMQIOLoop object>>\n    152         except ZMQError as e:\n    153             if e.errno == ETERM:\n    154                 # quietly return on ETERM\n    155                 pass\n\n...........................................................................\n//anaconda/lib/python2.7/site-packages/tornado/ioloop.py in start(self=<zmq.eventloop.ioloop.ZMQIOLoop object>)\n    861                 self._events.update(event_pairs)\n    862                 while self._events:\n    863                     fd, events = self._events.popitem()\n    864                     try:\n    865                         fd_obj, handler_func = self._handlers[fd]\n--> 866                         handler_func(fd_obj, events)\n        handler_func = <function null_wrapper>\n        fd_obj = <zmq.sugar.socket.Socket object>\n        events = 1\n    867                     except (OSError, IOError) as e:\n    868                         if errno_from_exception(e) == errno.EPIPE:\n    869                             # Happens when the client closes the connection\n    870                             pass\n\n...........................................................................\n//anaconda/lib/python2.7/site-packages/tornado/stack_context.py in null_wrapper(*args=(<zmq.sugar.socket.Socket object>, 1), **kwargs={})\n    270         # Fast path when there are no active contexts.\n    271         def null_wrapper(*args, **kwargs):\n    272             try:\n    273                 current_state = _state.contexts\n    274                 _state.contexts = cap_contexts[0]\n--> 275                 return fn(*args, **kwargs)\n        args = (<zmq.sugar.socket.Socket object>, 1)\n        kwargs = {}\n    276             finally:\n    277                 _state.contexts = current_state\n    278         null_wrapper._wrapped = True\n    279         return null_wrapper\n\n...........................................................................\n//anaconda/lib/python2.7/site-packages/zmq/eventloop/zmqstream.py in _handle_events(self=<zmq.eventloop.zmqstream.ZMQStream object>, fd=<zmq.sugar.socket.Socket object>, events=1)\n    428             # dispatch events:\n    429             if events & IOLoop.ERROR:\n    430                 gen_log.error(\"got POLLERR event on ZMQStream, which doesn't make sense\")\n    431                 return\n    432             if events & IOLoop.READ:\n--> 433                 self._handle_recv()\n        self._handle_recv = <bound method ZMQStream._handle_recv of <zmq.eventloop.zmqstream.ZMQStream object>>\n    434                 if not self.socket:\n    435                     return\n    436             if events & IOLoop.WRITE:\n    437                 self._handle_send()\n\n...........................................................................\n//anaconda/lib/python2.7/site-packages/zmq/eventloop/zmqstream.py in _handle_recv(self=<zmq.eventloop.zmqstream.ZMQStream object>)\n    460                 gen_log.error(\"RECV Error: %s\"%zmq.strerror(e.errno))\n    461         else:\n    462             if self._recv_callback:\n    463                 callback = self._recv_callback\n    464                 # self._recv_callback = None\n--> 465                 self._run_callback(callback, msg)\n        self._run_callback = <bound method ZMQStream._run_callback of <zmq.eventloop.zmqstream.ZMQStream object>>\n        callback = <function null_wrapper>\n        msg = [<zmq.sugar.frame.Frame object>, <zmq.sugar.frame.Frame object>, <zmq.sugar.frame.Frame object>, <zmq.sugar.frame.Frame object>, <zmq.sugar.frame.Frame object>, <zmq.sugar.frame.Frame object>, <zmq.sugar.frame.Frame object>]\n    466                 \n    467         # self.update_state()\n    468         \n    469 \n\n...........................................................................\n//anaconda/lib/python2.7/site-packages/zmq/eventloop/zmqstream.py in _run_callback(self=<zmq.eventloop.zmqstream.ZMQStream object>, callback=<function null_wrapper>, *args=([<zmq.sugar.frame.Frame object>, <zmq.sugar.frame.Frame object>, <zmq.sugar.frame.Frame object>, <zmq.sugar.frame.Frame object>, <zmq.sugar.frame.Frame object>, <zmq.sugar.frame.Frame object>, <zmq.sugar.frame.Frame object>],), **kwargs={})\n    402         close our socket.\"\"\"\n    403         try:\n    404             # Use a NullContext to ensure that all StackContexts are run\n    405             # inside our blanket exception handler rather than outside.\n    406             with stack_context.NullContext():\n--> 407                 callback(*args, **kwargs)\n        callback = <function null_wrapper>\n        args = ([<zmq.sugar.frame.Frame object>, <zmq.sugar.frame.Frame object>, <zmq.sugar.frame.Frame object>, <zmq.sugar.frame.Frame object>, <zmq.sugar.frame.Frame object>, <zmq.sugar.frame.Frame object>, <zmq.sugar.frame.Frame object>],)\n        kwargs = {}\n    408         except:\n    409             gen_log.error(\"Uncaught exception, closing connection.\",\n    410                           exc_info=True)\n    411             # Close the socket on an uncaught exception from a user callback\n\n...........................................................................\n//anaconda/lib/python2.7/site-packages/tornado/stack_context.py in null_wrapper(*args=([<zmq.sugar.frame.Frame object>, <zmq.sugar.frame.Frame object>, <zmq.sugar.frame.Frame object>, <zmq.sugar.frame.Frame object>, <zmq.sugar.frame.Frame object>, <zmq.sugar.frame.Frame object>, <zmq.sugar.frame.Frame object>],), **kwargs={})\n    270         # Fast path when there are no active contexts.\n    271         def null_wrapper(*args, **kwargs):\n    272             try:\n    273                 current_state = _state.contexts\n    274                 _state.contexts = cap_contexts[0]\n--> 275                 return fn(*args, **kwargs)\n        args = ([<zmq.sugar.frame.Frame object>, <zmq.sugar.frame.Frame object>, <zmq.sugar.frame.Frame object>, <zmq.sugar.frame.Frame object>, <zmq.sugar.frame.Frame object>, <zmq.sugar.frame.Frame object>, <zmq.sugar.frame.Frame object>],)\n        kwargs = {}\n    276             finally:\n    277                 _state.contexts = current_state\n    278         null_wrapper._wrapped = True\n    279         return null_wrapper\n\n...........................................................................\n//anaconda/lib/python2.7/site-packages/IPython/kernel/zmq/kernelbase.py in dispatcher(msg=[<zmq.sugar.frame.Frame object>, <zmq.sugar.frame.Frame object>, <zmq.sugar.frame.Frame object>, <zmq.sugar.frame.Frame object>, <zmq.sugar.frame.Frame object>, <zmq.sugar.frame.Frame object>, <zmq.sugar.frame.Frame object>])\n    247         if self.control_stream:\n    248             self.control_stream.on_recv(self.dispatch_control, copy=False)\n    249 \n    250         def make_dispatcher(stream):\n    251             def dispatcher(msg):\n--> 252                 return self.dispatch_shell(stream, msg)\n        msg = [<zmq.sugar.frame.Frame object>, <zmq.sugar.frame.Frame object>, <zmq.sugar.frame.Frame object>, <zmq.sugar.frame.Frame object>, <zmq.sugar.frame.Frame object>, <zmq.sugar.frame.Frame object>, <zmq.sugar.frame.Frame object>]\n    253             return dispatcher\n    254 \n    255         for s in self.shell_streams:\n    256             s.on_recv(make_dispatcher(s), copy=False)\n\n...........................................................................\n//anaconda/lib/python2.7/site-packages/IPython/kernel/zmq/kernelbase.py in dispatch_shell(self=<IPython.kernel.zmq.ipkernel.IPythonKernel object>, stream=<zmq.eventloop.zmqstream.ZMQStream object>, msg={'buffers': [], 'content': {u'allow_stdin': True, u'code': u'# results\\ngs.fit(X_train, Y_train)\\nprint \"Best score:\", gs.best_score_', u'silent': False, u'stop_on_error': True, u'store_history': True, u'user_expressions': {}}, 'header': {u'msg_id': u'34C4DD44729040FD8DC2BF24CFE0BEAD', u'msg_type': u'execute_request', u'session': u'40AF67ED4B544A858F0517937D371536', u'username': u'username', u'version': u'5.0'}, 'metadata': {}, 'msg_id': u'34C4DD44729040FD8DC2BF24CFE0BEAD', 'msg_type': u'execute_request', 'parent_header': {}})\n    208         else:\n    209             # ensure default_int_handler during handler call\n    210             sig = signal(SIGINT, default_int_handler)\n    211             self.log.debug(\"%s: %s\", msg_type, msg)\n    212             try:\n--> 213                 handler(stream, idents, msg)\n        handler = <bound method IPythonKernel.execute_request of <IPython.kernel.zmq.ipkernel.IPythonKernel object>>\n        stream = <zmq.eventloop.zmqstream.ZMQStream object>\n        idents = ['40AF67ED4B544A858F0517937D371536']\n        msg = {'buffers': [], 'content': {u'allow_stdin': True, u'code': u'# results\\ngs.fit(X_train, Y_train)\\nprint \"Best score:\", gs.best_score_', u'silent': False, u'stop_on_error': True, u'store_history': True, u'user_expressions': {}}, 'header': {u'msg_id': u'34C4DD44729040FD8DC2BF24CFE0BEAD', u'msg_type': u'execute_request', u'session': u'40AF67ED4B544A858F0517937D371536', u'username': u'username', u'version': u'5.0'}, 'metadata': {}, 'msg_id': u'34C4DD44729040FD8DC2BF24CFE0BEAD', 'msg_type': u'execute_request', 'parent_header': {}}\n    214             except Exception:\n    215                 self.log.error(\"Exception in message handler:\", exc_info=True)\n    216             finally:\n    217                 signal(SIGINT, sig)\n\n...........................................................................\n//anaconda/lib/python2.7/site-packages/IPython/kernel/zmq/kernelbase.py in execute_request(self=<IPython.kernel.zmq.ipkernel.IPythonKernel object>, stream=<zmq.eventloop.zmqstream.ZMQStream object>, ident=['40AF67ED4B544A858F0517937D371536'], parent={'buffers': [], 'content': {u'allow_stdin': True, u'code': u'# results\\ngs.fit(X_train, Y_train)\\nprint \"Best score:\", gs.best_score_', u'silent': False, u'stop_on_error': True, u'store_history': True, u'user_expressions': {}}, 'header': {u'msg_id': u'34C4DD44729040FD8DC2BF24CFE0BEAD', u'msg_type': u'execute_request', u'session': u'40AF67ED4B544A858F0517937D371536', u'username': u'username', u'version': u'5.0'}, 'metadata': {}, 'msg_id': u'34C4DD44729040FD8DC2BF24CFE0BEAD', 'msg_type': u'execute_request', 'parent_header': {}})\n    357         if not silent:\n    358             self.execution_count += 1\n    359             self._publish_execute_input(code, parent, self.execution_count)\n    360         \n    361         reply_content = self.do_execute(code, silent, store_history,\n--> 362                                         user_expressions, allow_stdin)\n        user_expressions = {}\n        allow_stdin = True\n    363 \n    364         # Flush output before sending the reply.\n    365         sys.stdout.flush()\n    366         sys.stderr.flush()\n\n...........................................................................\n//anaconda/lib/python2.7/site-packages/IPython/kernel/zmq/ipkernel.py in do_execute(self=<IPython.kernel.zmq.ipkernel.IPythonKernel object>, code=u'# results\\ngs.fit(X_train, Y_train)\\nprint \"Best score:\", gs.best_score_', silent=False, store_history=True, user_expressions={}, allow_stdin=True)\n    176 \n    177         reply_content = {}\n    178         # FIXME: the shell calls the exception handler itself.\n    179         shell._reply_content = None\n    180         try:\n--> 181             shell.run_cell(code, store_history=store_history, silent=silent)\n        shell.run_cell = <bound method ZMQInteractiveShell.run_cell of <I....kernel.zmq.zmqshell.ZMQInteractiveShell object>>\n        code = u'# results\\ngs.fit(X_train, Y_train)\\nprint \"Best score:\", gs.best_score_'\n        store_history = True\n        silent = False\n    182         except:\n    183             status = u'error'\n    184             # FIXME: this code right now isn't being used yet by default,\n    185             # because the run_cell() call above directly fires off exception\n\n...........................................................................\n//anaconda/lib/python2.7/site-packages/IPython/core/interactiveshell.py in run_cell(self=<IPython.kernel.zmq.zmqshell.ZMQInteractiveShell object>, raw_cell=u'# results\\ngs.fit(X_train, Y_train)\\nprint \"Best score:\", gs.best_score_', store_history=True, silent=False, shell_futures=True)\n   2866                 self.displayhook.exec_result = result\n   2867 \n   2868                 # Execute the user code\n   2869                 interactivity = \"none\" if silent else self.ast_node_interactivity\n   2870                 self.run_ast_nodes(code_ast.body, cell_name,\n-> 2871                    interactivity=interactivity, compiler=compiler, result=result)\n        interactivity = 'last_expr'\n        compiler = <IPython.core.compilerop.CachingCompiler instance>\n   2872 \n   2873                 # Reset this so later displayed values do not modify the\n   2874                 # ExecutionResult\n   2875                 self.displayhook.exec_result = None\n\n...........................................................................\n//anaconda/lib/python2.7/site-packages/IPython/core/interactiveshell.py in run_ast_nodes(self=<IPython.kernel.zmq.zmqshell.ZMQInteractiveShell object>, nodelist=[<_ast.Expr object>, <_ast.Print object>], cell_name='<ipython-input-20-1c58da248980>', interactivity='none', compiler=<IPython.core.compilerop.CachingCompiler instance>, result=<IPython.core.interactiveshell.ExecutionResult object>)\n   2970 \n   2971         try:\n   2972             for i, node in enumerate(to_run_exec):\n   2973                 mod = ast.Module([node])\n   2974                 code = compiler(mod, cell_name, \"exec\")\n-> 2975                 if self.run_code(code, result):\n        self.run_code = <bound method ZMQInteractiveShell.run_code of <I....kernel.zmq.zmqshell.ZMQInteractiveShell object>>\n        code = <code object <module> at 0x104452f30, file \"<ipython-input-20-1c58da248980>\", line 2>\n        result = <IPython.core.interactiveshell.ExecutionResult object>\n   2976                     return True\n   2977 \n   2978             for i, node in enumerate(to_run_interactive):\n   2979                 mod = ast.Interactive([node])\n\n...........................................................................\n//anaconda/lib/python2.7/site-packages/IPython/core/interactiveshell.py in run_code(self=<IPython.kernel.zmq.zmqshell.ZMQInteractiveShell object>, code_obj=<code object <module> at 0x104452f30, file \"<ipython-input-20-1c58da248980>\", line 2>, result=<IPython.core.interactiveshell.ExecutionResult object>)\n   3030         outflag = 1  # happens in more places, so it's easier as default\n   3031         try:\n   3032             try:\n   3033                 self.hooks.pre_run_code_hook()\n   3034                 #rprint('Running code', repr(code_obj)) # dbg\n-> 3035                 exec(code_obj, self.user_global_ns, self.user_ns)\n        code_obj = <code object <module> at 0x104452f30, file \"<ipython-input-20-1c58da248980>\", line 2>\n        self.user_global_ns = {'BernoulliNB': <class 'sklearn.naive_bayes.BernoulliNB'>, 'DecisionTreeClassifier': <class 'sklearn.tree.tree.DecisionTreeClassifier'>, 'GaussianNB': <class 'sklearn.naive_bayes.GaussianNB'>, 'GridSearchCV': <class 'sklearn.grid_search.GridSearchCV'>, 'Image': <module 'PIL.Image' from '//anaconda/lib/python2.7/site-packages/PIL/Image.pyc'>, 'In': ['', u'from sklearn.preprocessing import StandardScal...':\\\\n\\' + str(precision_report(models[i]))\\'\\'\\'', u\"# sklearn models\\nfrom sklearn.neighbors impor...d\\nimport numpy as np\\nfrom pprint import pprint\", u'from sklearn.preprocessing import StandardScal...':\\\\n\\' + str(precision_report(models[i]))\\'\\'\\'', u'from sklearn.preprocessing import StandardScal...':\\\\n\\' + str(precision_report(models[i]))\\'\\'\\'', u'from sklearn.preprocessing import StandardScal...':\\\\n\\' + str(precision_report(models[i]))\\'\\'\\'', u'from sklearn.preprocessing import StandardScal...':\\\\n\\' + str(precision_report(models[i]))\\'\\'\\'', u'import math\\nimport cv2\\n\\ndef img_round(x, ba...re(figsize=(width, height))\\n    plt.imshow(img)', u'from sklearn.preprocessing import StandardScal...':\\\\n\\' + str(precision_report(models[i]))\\'\\'\\'', u'from sklearn.preprocessing import StandardScal...':\\\\n\\' + str(precision_report(models[i]))\\'\\'\\'', u'from sklearn.preprocessing import StandardScal...':\\\\n\\' + str(precision_report(models[i]))\\'\\'\\'', u'from sklearn.preprocessing import StandardScal...p.asarray([i.ravel() for i in raw_x])\\ny = raw_y', u'# Standard Scaler\\nss = StandardScaler()\\nx = ...PCA(n_components=1000)\\nx = pca.fit_transform(x)', u\"# params\\nparams_to_try = {\\n    'C': [10**i f...n, Y_train = nudge_dataset(X_train, Y_train, 50)\", u'# results\\ngs.fit(X_train, Y_train)\\nprint \"Be...':\\\\n\\' + str(precision_report(models[i]))\\'\\'\\'', u\"# sklearn models\\nfrom sklearn.neighbors impor...d\\nimport numpy as np\\nfrom pprint import pprint\", u\"# sklearn models\\nfrom sklearn.neighbors impor...d\\nimport numpy as np\\nfrom pprint import pprint\", u'from sklearn.preprocessing import StandardScal...p.asarray([i.ravel() for i in raw_x])\\ny = raw_y', u'# Standard Scaler\\nss = StandardScaler()\\nx = ...PCA(n_components=1000)\\nx = pca.fit_transform(x)', u\"# params\\nparams_to_try = {\\n    'C': [10**i f...n, Y_train = nudge_dataset(X_train, Y_train, 50)\", ...], 'KNeighborsClassifier': <class 'sklearn.neighbors.classification.KNeighborsClassifier'>, 'LinearSVC': <class 'sklearn.svm.classes.LinearSVC'>, 'MultinomialNB': <class 'sklearn.naive_bayes.MultinomialNB'>, 'Out': {}, ...}\n        self.user_ns = {'BernoulliNB': <class 'sklearn.naive_bayes.BernoulliNB'>, 'DecisionTreeClassifier': <class 'sklearn.tree.tree.DecisionTreeClassifier'>, 'GaussianNB': <class 'sklearn.naive_bayes.GaussianNB'>, 'GridSearchCV': <class 'sklearn.grid_search.GridSearchCV'>, 'Image': <module 'PIL.Image' from '//anaconda/lib/python2.7/site-packages/PIL/Image.pyc'>, 'In': ['', u'from sklearn.preprocessing import StandardScal...':\\\\n\\' + str(precision_report(models[i]))\\'\\'\\'', u\"# sklearn models\\nfrom sklearn.neighbors impor...d\\nimport numpy as np\\nfrom pprint import pprint\", u'from sklearn.preprocessing import StandardScal...':\\\\n\\' + str(precision_report(models[i]))\\'\\'\\'', u'from sklearn.preprocessing import StandardScal...':\\\\n\\' + str(precision_report(models[i]))\\'\\'\\'', u'from sklearn.preprocessing import StandardScal...':\\\\n\\' + str(precision_report(models[i]))\\'\\'\\'', u'from sklearn.preprocessing import StandardScal...':\\\\n\\' + str(precision_report(models[i]))\\'\\'\\'', u'import math\\nimport cv2\\n\\ndef img_round(x, ba...re(figsize=(width, height))\\n    plt.imshow(img)', u'from sklearn.preprocessing import StandardScal...':\\\\n\\' + str(precision_report(models[i]))\\'\\'\\'', u'from sklearn.preprocessing import StandardScal...':\\\\n\\' + str(precision_report(models[i]))\\'\\'\\'', u'from sklearn.preprocessing import StandardScal...':\\\\n\\' + str(precision_report(models[i]))\\'\\'\\'', u'from sklearn.preprocessing import StandardScal...p.asarray([i.ravel() for i in raw_x])\\ny = raw_y', u'# Standard Scaler\\nss = StandardScaler()\\nx = ...PCA(n_components=1000)\\nx = pca.fit_transform(x)', u\"# params\\nparams_to_try = {\\n    'C': [10**i f...n, Y_train = nudge_dataset(X_train, Y_train, 50)\", u'# results\\ngs.fit(X_train, Y_train)\\nprint \"Be...':\\\\n\\' + str(precision_report(models[i]))\\'\\'\\'', u\"# sklearn models\\nfrom sklearn.neighbors impor...d\\nimport numpy as np\\nfrom pprint import pprint\", u\"# sklearn models\\nfrom sklearn.neighbors impor...d\\nimport numpy as np\\nfrom pprint import pprint\", u'from sklearn.preprocessing import StandardScal...p.asarray([i.ravel() for i in raw_x])\\ny = raw_y', u'# Standard Scaler\\nss = StandardScaler()\\nx = ...PCA(n_components=1000)\\nx = pca.fit_transform(x)', u\"# params\\nparams_to_try = {\\n    'C': [10**i f...n, Y_train = nudge_dataset(X_train, Y_train, 50)\", ...], 'KNeighborsClassifier': <class 'sklearn.neighbors.classification.KNeighborsClassifier'>, 'LinearSVC': <class 'sklearn.svm.classes.LinearSVC'>, 'MultinomialNB': <class 'sklearn.naive_bayes.MultinomialNB'>, 'Out': {}, ...}\n   3036             finally:\n   3037                 # Reset our crash handler in place\n   3038                 sys.excepthook = old_excepthook\n   3039         except SystemExit as e:\n\n...........................................................................\n/Users/derekjanni/PyOCR/<ipython-input-20-1c58da248980> in <module>()\n      1 \n----> 2 \n      3 \n      4 \n      5 # results\n      6 gs.fit(X_train, Y_train)\n      7 print \"Best score:\", gs.best_score_\n      8 \n      9 \n     10 \n\n...........................................................................\n//anaconda/lib/python2.7/site-packages/sklearn/grid_search.py in fit(self=GridSearchCV(cv=3, error_score='raise',\n       e...e_func=None,\n       scoring='roc_auc', verbose=0), X=array([[ -4.76116885e+00,   4.75162781e+00,  -2....883263e-16,   4.69638395e-16,   3.67009761e-16]]), y=array(['L', 'e', 'B', ..., 'v', 'J', 'R'], dtype=object))\n    727         y : array-like, shape = [n_samples] or [n_samples, n_output], optional\n    728             Target relative to X for classification or regression;\n    729             None for unsupervised learning.\n    730 \n    731         \"\"\"\n--> 732         return self._fit(X, y, ParameterGrid(self.param_grid))\n        self._fit = <bound method GridSearchCV._fit of GridSearchCV(..._func=None,\n       scoring='roc_auc', verbose=0)>\n        X = array([[ -4.76116885e+00,   4.75162781e+00,  -2....883263e-16,   4.69638395e-16,   3.67009761e-16]])\n        y = array(['L', 'e', 'B', ..., 'v', 'J', 'R'], dtype=object)\n        self.param_grid = {'C': [1, 10], 'gamma': [1e-07, 1e-06]}\n    733 \n    734 \n    735 class RandomizedSearchCV(BaseSearchCV):\n    736     \"\"\"Randomized search on hyper parameters.\n\n...........................................................................\n//anaconda/lib/python2.7/site-packages/sklearn/grid_search.py in _fit(self=GridSearchCV(cv=3, error_score='raise',\n       e...e_func=None,\n       scoring='roc_auc', verbose=0), X=array([[ -4.76116885e+00,   4.75162781e+00,  -2....883263e-16,   4.69638395e-16,   3.67009761e-16]]), y=array(['L', 'e', 'B', ..., 'v', 'J', 'R'], dtype=object), parameter_iterable=<sklearn.grid_search.ParameterGrid object>)\n    500         )(\n    501             delayed(_fit_and_score)(clone(base_estimator), X, y, self.scorer_,\n    502                                     train, test, self.verbose, parameters,\n    503                                     self.fit_params, return_parameters=True,\n    504                                     error_score=self.error_score)\n--> 505                 for parameters in parameter_iterable\n        parameters = undefined\n        parameter_iterable = <sklearn.grid_search.ParameterGrid object>\n    506                 for train, test in cv)\n    507 \n    508         # Out is a list of triplet: score, estimator, n_test_samples\n    509         n_fits = len(out)\n\n...........................................................................\n//anaconda/lib/python2.7/site-packages/sklearn/externals/joblib/parallel.py in __call__(self=Parallel(n_jobs=4), iterable=<itertools.islice object>)\n    661             if pre_dispatch == \"all\" or n_jobs == 1:\n    662                 # The iterable was consumed all at once by the above for loop.\n    663                 # No need to wait for async callbacks to trigger to\n    664                 # consumption.\n    665                 self._iterating = False\n--> 666             self.retrieve()\n        self.retrieve = <bound method Parallel.retrieve of Parallel(n_jobs=4)>\n    667             # Make sure that we get a last message telling us we are done\n    668             elapsed_time = time.time() - self._start_time\n    669             self._print('Done %3i out of %3i | elapsed: %s finished',\n    670                         (len(self._output),\n\n    ---------------------------------------------------------------------------\n    Sub-process traceback:\n    ---------------------------------------------------------------------------\n    ValueError                                         Mon Aug 24 11:13:31 2015\nPID: 6842                              Python 2.7.10: //anaconda/bin/python\n...........................................................................\n//anaconda/lib/python2.7/site-packages/sklearn/cross_validation.pyc in _fit_and_score(estimator=SVC(C=1, cache_size=200, class_weight='auto', co...e=None, shrinking=True, tol=0.001, verbose=False), X=array([[ -4.76116885e+00,   4.75162781e+00,  -2....883263e-16,   4.69638395e-16,   3.67009761e-16]]), y=array(['L', 'e', 'B', ..., 'v', 'J', 'R'], dtype=object), scorer=make_scorer(roc_auc_score, needs_threshold=True), train=array([ 932,  978, 1109, ..., 5023, 5024, 5025]), test=array([   0,    1,    2, ..., 2310, 2319, 2473]), verbose=0, parameters={'C': 1, 'gamma': 1e-07}, fit_params={}, return_train_score=False, return_parameters=True, error_score='raise')\n   1473                              \" numeric value. (Hint: if using 'raise', please\"\n   1474                              \" make sure that it has been spelled correctly.)\"\n   1475                              )\n   1476 \n   1477     else:\n-> 1478         test_score = _score(estimator, X_test, y_test, scorer)\n   1479         if return_train_score:\n   1480             train_score = _score(estimator, X_train, y_train, scorer)\n   1481 \n   1482     scoring_time = time.time() - start_time\n\n...........................................................................\n//anaconda/lib/python2.7/site-packages/sklearn/cross_validation.pyc in _score(estimator=SVC(C=1, cache_size=200, class_weight='auto', co...e=None, shrinking=True, tol=0.001, verbose=False), X_test=array([[ -4.76116885e+00,   4.75162781e+00,  -2....541808e-16,   5.25932293e-16,   5.11952836e-16]]), y_test=array(['L', 'e', 'B', ..., 'p', 'x', '2'], dtype=object), scorer=make_scorer(roc_auc_score, needs_threshold=True))\n   1529 def _score(estimator, X_test, y_test, scorer):\n   1530     \"\"\"Compute the score of an estimator on a given test set.\"\"\"\n   1531     if y_test is None:\n   1532         score = scorer(estimator, X_test)\n   1533     else:\n-> 1534         score = scorer(estimator, X_test, y_test)\n   1535     if not isinstance(score, numbers.Number):\n   1536         raise ValueError(\"scoring must return a number, got %s (%s) instead.\"\n   1537                          % (str(score), type(score)))\n   1538     return score\n\n...........................................................................\n//anaconda/lib/python2.7/site-packages/sklearn/metrics/scorer.pyc in __call__(self=make_scorer(roc_auc_score, needs_threshold=True), clf=SVC(C=1, cache_size=200, class_weight='auto', co...e=None, shrinking=True, tol=0.001, verbose=False), X=array([[ -4.76116885e+00,   4.75162781e+00,  -2....541808e-16,   5.25932293e-16,   5.11952836e-16]]), y=array(['L', 'e', 'B', ..., 'p', 'x', '2'], dtype=object), sample_weight=None)\n    153         score : float\n    154             Score function applied to prediction of estimator on X.\n    155         \"\"\"\n    156         y_type = type_of_target(y)\n    157         if y_type not in (\"binary\", \"multilabel-indicator\"):\n--> 158             raise ValueError(\"{0} format is not supported\".format(y_type))\n    159 \n    160         try:\n    161             y_pred = clf.decision_function(X)\n    162 \n\nValueError: multiclass format is not supported\n___________________________________________________________________________",
     "output_type": "error",
     "traceback": [
      "\u001b[0;31m---------------------------------------------------------------------------\u001b[0m",
      "\u001b[0;31mJoblibValueError\u001b[0m                          Traceback (most recent call last)",
      "\u001b[0;32m<ipython-input-20-1c58da248980>\u001b[0m in \u001b[0;36m<module>\u001b[0;34m()\u001b[0m\n\u001b[1;32m      1\u001b[0m \u001b[0;31m# results\u001b[0m\u001b[0;34m\u001b[0m\u001b[0;34m\u001b[0m\u001b[0m\n\u001b[0;32m----> 2\u001b[0;31m \u001b[0mgs\u001b[0m\u001b[0;34m.\u001b[0m\u001b[0mfit\u001b[0m\u001b[0;34m(\u001b[0m\u001b[0mX_train\u001b[0m\u001b[0;34m,\u001b[0m \u001b[0mY_train\u001b[0m\u001b[0;34m)\u001b[0m\u001b[0;34m\u001b[0m\u001b[0m\n\u001b[0m\u001b[1;32m      3\u001b[0m \u001b[0;32mprint\u001b[0m \u001b[0;34m\"Best score:\"\u001b[0m\u001b[0;34m,\u001b[0m \u001b[0mgs\u001b[0m\u001b[0;34m.\u001b[0m\u001b[0mbest_score_\u001b[0m\u001b[0;34m\u001b[0m\u001b[0m\n",
      "\u001b[0;32m//anaconda/lib/python2.7/site-packages/sklearn/grid_search.pyc\u001b[0m in \u001b[0;36mfit\u001b[0;34m(self, X, y)\u001b[0m\n\u001b[1;32m    730\u001b[0m \u001b[0;34m\u001b[0m\u001b[0m\n\u001b[1;32m    731\u001b[0m         \"\"\"\n\u001b[0;32m--> 732\u001b[0;31m         \u001b[0;32mreturn\u001b[0m \u001b[0mself\u001b[0m\u001b[0;34m.\u001b[0m\u001b[0m_fit\u001b[0m\u001b[0;34m(\u001b[0m\u001b[0mX\u001b[0m\u001b[0;34m,\u001b[0m \u001b[0my\u001b[0m\u001b[0;34m,\u001b[0m \u001b[0mParameterGrid\u001b[0m\u001b[0;34m(\u001b[0m\u001b[0mself\u001b[0m\u001b[0;34m.\u001b[0m\u001b[0mparam_grid\u001b[0m\u001b[0;34m)\u001b[0m\u001b[0;34m)\u001b[0m\u001b[0;34m\u001b[0m\u001b[0m\n\u001b[0m\u001b[1;32m    733\u001b[0m \u001b[0;34m\u001b[0m\u001b[0m\n\u001b[1;32m    734\u001b[0m \u001b[0;34m\u001b[0m\u001b[0m\n",
      "\u001b[0;32m//anaconda/lib/python2.7/site-packages/sklearn/grid_search.pyc\u001b[0m in \u001b[0;36m_fit\u001b[0;34m(self, X, y, parameter_iterable)\u001b[0m\n\u001b[1;32m    503\u001b[0m                                     \u001b[0mself\u001b[0m\u001b[0;34m.\u001b[0m\u001b[0mfit_params\u001b[0m\u001b[0;34m,\u001b[0m \u001b[0mreturn_parameters\u001b[0m\u001b[0;34m=\u001b[0m\u001b[0mTrue\u001b[0m\u001b[0;34m,\u001b[0m\u001b[0;34m\u001b[0m\u001b[0m\n\u001b[1;32m    504\u001b[0m                                     error_score=self.error_score)\n\u001b[0;32m--> 505\u001b[0;31m                 \u001b[0;32mfor\u001b[0m \u001b[0mparameters\u001b[0m \u001b[0;32min\u001b[0m \u001b[0mparameter_iterable\u001b[0m\u001b[0;34m\u001b[0m\u001b[0m\n\u001b[0m\u001b[1;32m    506\u001b[0m                 for train, test in cv)\n\u001b[1;32m    507\u001b[0m \u001b[0;34m\u001b[0m\u001b[0m\n",
      "\u001b[0;32m//anaconda/lib/python2.7/site-packages/sklearn/externals/joblib/parallel.pyc\u001b[0m in \u001b[0;36m__call__\u001b[0;34m(self, iterable)\u001b[0m\n\u001b[1;32m    664\u001b[0m                 \u001b[0;31m# consumption.\u001b[0m\u001b[0;34m\u001b[0m\u001b[0;34m\u001b[0m\u001b[0m\n\u001b[1;32m    665\u001b[0m                 \u001b[0mself\u001b[0m\u001b[0;34m.\u001b[0m\u001b[0m_iterating\u001b[0m \u001b[0;34m=\u001b[0m \u001b[0mFalse\u001b[0m\u001b[0;34m\u001b[0m\u001b[0m\n\u001b[0;32m--> 666\u001b[0;31m             \u001b[0mself\u001b[0m\u001b[0;34m.\u001b[0m\u001b[0mretrieve\u001b[0m\u001b[0;34m(\u001b[0m\u001b[0;34m)\u001b[0m\u001b[0;34m\u001b[0m\u001b[0m\n\u001b[0m\u001b[1;32m    667\u001b[0m             \u001b[0;31m# Make sure that we get a last message telling us we are done\u001b[0m\u001b[0;34m\u001b[0m\u001b[0;34m\u001b[0m\u001b[0m\n\u001b[1;32m    668\u001b[0m             \u001b[0melapsed_time\u001b[0m \u001b[0;34m=\u001b[0m \u001b[0mtime\u001b[0m\u001b[0;34m.\u001b[0m\u001b[0mtime\u001b[0m\u001b[0;34m(\u001b[0m\u001b[0;34m)\u001b[0m \u001b[0;34m-\u001b[0m \u001b[0mself\u001b[0m\u001b[0;34m.\u001b[0m\u001b[0m_start_time\u001b[0m\u001b[0;34m\u001b[0m\u001b[0m\n",
      "\u001b[0;32m//anaconda/lib/python2.7/site-packages/sklearn/externals/joblib/parallel.pyc\u001b[0m in \u001b[0;36mretrieve\u001b[0;34m(self)\u001b[0m\n\u001b[1;32m    547\u001b[0m                         \u001b[0;31m# Convert this to a JoblibException\u001b[0m\u001b[0;34m\u001b[0m\u001b[0;34m\u001b[0m\u001b[0m\n\u001b[1;32m    548\u001b[0m                         \u001b[0mexception_type\u001b[0m \u001b[0;34m=\u001b[0m \u001b[0m_mk_exception\u001b[0m\u001b[0;34m(\u001b[0m\u001b[0mexception\u001b[0m\u001b[0;34m.\u001b[0m\u001b[0metype\u001b[0m\u001b[0;34m)\u001b[0m\u001b[0;34m[\u001b[0m\u001b[0;36m0\u001b[0m\u001b[0;34m]\u001b[0m\u001b[0;34m\u001b[0m\u001b[0m\n\u001b[0;32m--> 549\u001b[0;31m                         \u001b[0;32mraise\u001b[0m \u001b[0mexception_type\u001b[0m\u001b[0;34m(\u001b[0m\u001b[0mreport\u001b[0m\u001b[0;34m)\u001b[0m\u001b[0;34m\u001b[0m\u001b[0m\n\u001b[0m\u001b[1;32m    550\u001b[0m                     \u001b[0;32mraise\u001b[0m \u001b[0mexception\u001b[0m\u001b[0;34m\u001b[0m\u001b[0m\n\u001b[1;32m    551\u001b[0m                 \u001b[0;32mfinally\u001b[0m\u001b[0;34m:\u001b[0m\u001b[0;34m\u001b[0m\u001b[0m\n",
      "\u001b[0;31mJoblibValueError\u001b[0m: JoblibValueError\n___________________________________________________________________________\nMultiprocessing exception:\n    ...........................................................................\n//anaconda/lib/python2.7/runpy.py in _run_module_as_main(mod_name='IPython.kernel.__main__', alter_argv=1)\n    157     pkg_name = mod_name.rpartition('.')[0]\n    158     main_globals = sys.modules[\"__main__\"].__dict__\n    159     if alter_argv:\n    160         sys.argv[0] = fname\n    161     return _run_code(code, main_globals, None,\n--> 162                      \"__main__\", fname, loader, pkg_name)\n        fname = '/anaconda/lib/python2.7/site-packages/IPython/kernel/__main__.py'\n        loader = <pkgutil.ImpLoader instance>\n        pkg_name = 'IPython.kernel'\n    163 \n    164 def run_module(mod_name, init_globals=None,\n    165                run_name=None, alter_sys=False):\n    166     \"\"\"Execute a module's code without importing it\n\n...........................................................................\n//anaconda/lib/python2.7/runpy.py in _run_code(code=<code object <module> at 0x10564c7b0, file \"/ana...ite-packages/IPython/kernel/__main__.py\", line 1>, run_globals={'__builtins__': <module '__builtin__' (built-in)>, '__doc__': None, '__file__': '/anaconda/lib/python2.7/site-packages/IPython/kernel/__main__.py', '__loader__': <pkgutil.ImpLoader instance>, '__name__': '__main__', '__package__': 'IPython.kernel', 'app': <module 'IPython.kernel.zmq.kernelapp' from '//a.../site-packages/IPython/kernel/zmq/kernelapp.pyc'>}, init_globals=None, mod_name='__main__', mod_fname='/anaconda/lib/python2.7/site-packages/IPython/kernel/__main__.py', mod_loader=<pkgutil.ImpLoader instance>, pkg_name='IPython.kernel')\n     67         run_globals.update(init_globals)\n     68     run_globals.update(__name__ = mod_name,\n     69                        __file__ = mod_fname,\n     70                        __loader__ = mod_loader,\n     71                        __package__ = pkg_name)\n---> 72     exec code in run_globals\n        code = <code object <module> at 0x10564c7b0, file \"/ana...ite-packages/IPython/kernel/__main__.py\", line 1>\n        run_globals = {'__builtins__': <module '__builtin__' (built-in)>, '__doc__': None, '__file__': '/anaconda/lib/python2.7/site-packages/IPython/kernel/__main__.py', '__loader__': <pkgutil.ImpLoader instance>, '__name__': '__main__', '__package__': 'IPython.kernel', 'app': <module 'IPython.kernel.zmq.kernelapp' from '//a.../site-packages/IPython/kernel/zmq/kernelapp.pyc'>}\n     73     return run_globals\n     74 \n     75 def _run_module_code(code, init_globals=None,\n     76                     mod_name=None, mod_fname=None,\n\n...........................................................................\n/anaconda/lib/python2.7/site-packages/IPython/kernel/__main__.py in <module>()\n      1 \n      2 \n----> 3 \n      4 if __name__ == '__main__':\n      5     from IPython.kernel.zmq import kernelapp as app\n      6     app.launch_new_instance()\n      7 \n      8 \n      9 \n     10 \n\n...........................................................................\n//anaconda/lib/python2.7/site-packages/IPython/config/application.py in launch_instance(cls=<class 'IPython.kernel.zmq.kernelapp.IPKernelApp'>, argv=None, **kwargs={})\n    569         \n    570         If a global instance already exists, this reinitializes and starts it\n    571         \"\"\"\n    572         app = cls.instance(**kwargs)\n    573         app.initialize(argv)\n--> 574         app.start()\n        app.start = <bound method IPKernelApp.start of <IPython.kernel.zmq.kernelapp.IPKernelApp object>>\n    575 \n    576 #-----------------------------------------------------------------------------\n    577 # utility functions, for convenience\n    578 #-----------------------------------------------------------------------------\n\n...........................................................................\n//anaconda/lib/python2.7/site-packages/IPython/kernel/zmq/kernelapp.py in start(self=<IPython.kernel.zmq.kernelapp.IPKernelApp object>)\n    368     def start(self):\n    369         if self.poller is not None:\n    370             self.poller.start()\n    371         self.kernel.start()\n    372         try:\n--> 373             ioloop.IOLoop.instance().start()\n    374         except KeyboardInterrupt:\n    375             pass\n    376 \n    377 launch_new_instance = IPKernelApp.launch_instance\n\n...........................................................................\n//anaconda/lib/python2.7/site-packages/zmq/eventloop/ioloop.py in start(self=<zmq.eventloop.ioloop.ZMQIOLoop object>)\n    146             PollIOLoop.configure(ZMQIOLoop)\n    147         return PollIOLoop.instance()\n    148     \n    149     def start(self):\n    150         try:\n--> 151             super(ZMQIOLoop, self).start()\n        self.start = <bound method ZMQIOLoop.start of <zmq.eventloop.ioloop.ZMQIOLoop object>>\n    152         except ZMQError as e:\n    153             if e.errno == ETERM:\n    154                 # quietly return on ETERM\n    155                 pass\n\n...........................................................................\n//anaconda/lib/python2.7/site-packages/tornado/ioloop.py in start(self=<zmq.eventloop.ioloop.ZMQIOLoop object>)\n    861                 self._events.update(event_pairs)\n    862                 while self._events:\n    863                     fd, events = self._events.popitem()\n    864                     try:\n    865                         fd_obj, handler_func = self._handlers[fd]\n--> 866                         handler_func(fd_obj, events)\n        handler_func = <function null_wrapper>\n        fd_obj = <zmq.sugar.socket.Socket object>\n        events = 1\n    867                     except (OSError, IOError) as e:\n    868                         if errno_from_exception(e) == errno.EPIPE:\n    869                             # Happens when the client closes the connection\n    870                             pass\n\n...........................................................................\n//anaconda/lib/python2.7/site-packages/tornado/stack_context.py in null_wrapper(*args=(<zmq.sugar.socket.Socket object>, 1), **kwargs={})\n    270         # Fast path when there are no active contexts.\n    271         def null_wrapper(*args, **kwargs):\n    272             try:\n    273                 current_state = _state.contexts\n    274                 _state.contexts = cap_contexts[0]\n--> 275                 return fn(*args, **kwargs)\n        args = (<zmq.sugar.socket.Socket object>, 1)\n        kwargs = {}\n    276             finally:\n    277                 _state.contexts = current_state\n    278         null_wrapper._wrapped = True\n    279         return null_wrapper\n\n...........................................................................\n//anaconda/lib/python2.7/site-packages/zmq/eventloop/zmqstream.py in _handle_events(self=<zmq.eventloop.zmqstream.ZMQStream object>, fd=<zmq.sugar.socket.Socket object>, events=1)\n    428             # dispatch events:\n    429             if events & IOLoop.ERROR:\n    430                 gen_log.error(\"got POLLERR event on ZMQStream, which doesn't make sense\")\n    431                 return\n    432             if events & IOLoop.READ:\n--> 433                 self._handle_recv()\n        self._handle_recv = <bound method ZMQStream._handle_recv of <zmq.eventloop.zmqstream.ZMQStream object>>\n    434                 if not self.socket:\n    435                     return\n    436             if events & IOLoop.WRITE:\n    437                 self._handle_send()\n\n...........................................................................\n//anaconda/lib/python2.7/site-packages/zmq/eventloop/zmqstream.py in _handle_recv(self=<zmq.eventloop.zmqstream.ZMQStream object>)\n    460                 gen_log.error(\"RECV Error: %s\"%zmq.strerror(e.errno))\n    461         else:\n    462             if self._recv_callback:\n    463                 callback = self._recv_callback\n    464                 # self._recv_callback = None\n--> 465                 self._run_callback(callback, msg)\n        self._run_callback = <bound method ZMQStream._run_callback of <zmq.eventloop.zmqstream.ZMQStream object>>\n        callback = <function null_wrapper>\n        msg = [<zmq.sugar.frame.Frame object>, <zmq.sugar.frame.Frame object>, <zmq.sugar.frame.Frame object>, <zmq.sugar.frame.Frame object>, <zmq.sugar.frame.Frame object>, <zmq.sugar.frame.Frame object>, <zmq.sugar.frame.Frame object>]\n    466                 \n    467         # self.update_state()\n    468         \n    469 \n\n...........................................................................\n//anaconda/lib/python2.7/site-packages/zmq/eventloop/zmqstream.py in _run_callback(self=<zmq.eventloop.zmqstream.ZMQStream object>, callback=<function null_wrapper>, *args=([<zmq.sugar.frame.Frame object>, <zmq.sugar.frame.Frame object>, <zmq.sugar.frame.Frame object>, <zmq.sugar.frame.Frame object>, <zmq.sugar.frame.Frame object>, <zmq.sugar.frame.Frame object>, <zmq.sugar.frame.Frame object>],), **kwargs={})\n    402         close our socket.\"\"\"\n    403         try:\n    404             # Use a NullContext to ensure that all StackContexts are run\n    405             # inside our blanket exception handler rather than outside.\n    406             with stack_context.NullContext():\n--> 407                 callback(*args, **kwargs)\n        callback = <function null_wrapper>\n        args = ([<zmq.sugar.frame.Frame object>, <zmq.sugar.frame.Frame object>, <zmq.sugar.frame.Frame object>, <zmq.sugar.frame.Frame object>, <zmq.sugar.frame.Frame object>, <zmq.sugar.frame.Frame object>, <zmq.sugar.frame.Frame object>],)\n        kwargs = {}\n    408         except:\n    409             gen_log.error(\"Uncaught exception, closing connection.\",\n    410                           exc_info=True)\n    411             # Close the socket on an uncaught exception from a user callback\n\n...........................................................................\n//anaconda/lib/python2.7/site-packages/tornado/stack_context.py in null_wrapper(*args=([<zmq.sugar.frame.Frame object>, <zmq.sugar.frame.Frame object>, <zmq.sugar.frame.Frame object>, <zmq.sugar.frame.Frame object>, <zmq.sugar.frame.Frame object>, <zmq.sugar.frame.Frame object>, <zmq.sugar.frame.Frame object>],), **kwargs={})\n    270         # Fast path when there are no active contexts.\n    271         def null_wrapper(*args, **kwargs):\n    272             try:\n    273                 current_state = _state.contexts\n    274                 _state.contexts = cap_contexts[0]\n--> 275                 return fn(*args, **kwargs)\n        args = ([<zmq.sugar.frame.Frame object>, <zmq.sugar.frame.Frame object>, <zmq.sugar.frame.Frame object>, <zmq.sugar.frame.Frame object>, <zmq.sugar.frame.Frame object>, <zmq.sugar.frame.Frame object>, <zmq.sugar.frame.Frame object>],)\n        kwargs = {}\n    276             finally:\n    277                 _state.contexts = current_state\n    278         null_wrapper._wrapped = True\n    279         return null_wrapper\n\n...........................................................................\n//anaconda/lib/python2.7/site-packages/IPython/kernel/zmq/kernelbase.py in dispatcher(msg=[<zmq.sugar.frame.Frame object>, <zmq.sugar.frame.Frame object>, <zmq.sugar.frame.Frame object>, <zmq.sugar.frame.Frame object>, <zmq.sugar.frame.Frame object>, <zmq.sugar.frame.Frame object>, <zmq.sugar.frame.Frame object>])\n    247         if self.control_stream:\n    248             self.control_stream.on_recv(self.dispatch_control, copy=False)\n    249 \n    250         def make_dispatcher(stream):\n    251             def dispatcher(msg):\n--> 252                 return self.dispatch_shell(stream, msg)\n        msg = [<zmq.sugar.frame.Frame object>, <zmq.sugar.frame.Frame object>, <zmq.sugar.frame.Frame object>, <zmq.sugar.frame.Frame object>, <zmq.sugar.frame.Frame object>, <zmq.sugar.frame.Frame object>, <zmq.sugar.frame.Frame object>]\n    253             return dispatcher\n    254 \n    255         for s in self.shell_streams:\n    256             s.on_recv(make_dispatcher(s), copy=False)\n\n...........................................................................\n//anaconda/lib/python2.7/site-packages/IPython/kernel/zmq/kernelbase.py in dispatch_shell(self=<IPython.kernel.zmq.ipkernel.IPythonKernel object>, stream=<zmq.eventloop.zmqstream.ZMQStream object>, msg={'buffers': [], 'content': {u'allow_stdin': True, u'code': u'# results\\ngs.fit(X_train, Y_train)\\nprint \"Best score:\", gs.best_score_', u'silent': False, u'stop_on_error': True, u'store_history': True, u'user_expressions': {}}, 'header': {u'msg_id': u'34C4DD44729040FD8DC2BF24CFE0BEAD', u'msg_type': u'execute_request', u'session': u'40AF67ED4B544A858F0517937D371536', u'username': u'username', u'version': u'5.0'}, 'metadata': {}, 'msg_id': u'34C4DD44729040FD8DC2BF24CFE0BEAD', 'msg_type': u'execute_request', 'parent_header': {}})\n    208         else:\n    209             # ensure default_int_handler during handler call\n    210             sig = signal(SIGINT, default_int_handler)\n    211             self.log.debug(\"%s: %s\", msg_type, msg)\n    212             try:\n--> 213                 handler(stream, idents, msg)\n        handler = <bound method IPythonKernel.execute_request of <IPython.kernel.zmq.ipkernel.IPythonKernel object>>\n        stream = <zmq.eventloop.zmqstream.ZMQStream object>\n        idents = ['40AF67ED4B544A858F0517937D371536']\n        msg = {'buffers': [], 'content': {u'allow_stdin': True, u'code': u'# results\\ngs.fit(X_train, Y_train)\\nprint \"Best score:\", gs.best_score_', u'silent': False, u'stop_on_error': True, u'store_history': True, u'user_expressions': {}}, 'header': {u'msg_id': u'34C4DD44729040FD8DC2BF24CFE0BEAD', u'msg_type': u'execute_request', u'session': u'40AF67ED4B544A858F0517937D371536', u'username': u'username', u'version': u'5.0'}, 'metadata': {}, 'msg_id': u'34C4DD44729040FD8DC2BF24CFE0BEAD', 'msg_type': u'execute_request', 'parent_header': {}}\n    214             except Exception:\n    215                 self.log.error(\"Exception in message handler:\", exc_info=True)\n    216             finally:\n    217                 signal(SIGINT, sig)\n\n...........................................................................\n//anaconda/lib/python2.7/site-packages/IPython/kernel/zmq/kernelbase.py in execute_request(self=<IPython.kernel.zmq.ipkernel.IPythonKernel object>, stream=<zmq.eventloop.zmqstream.ZMQStream object>, ident=['40AF67ED4B544A858F0517937D371536'], parent={'buffers': [], 'content': {u'allow_stdin': True, u'code': u'# results\\ngs.fit(X_train, Y_train)\\nprint \"Best score:\", gs.best_score_', u'silent': False, u'stop_on_error': True, u'store_history': True, u'user_expressions': {}}, 'header': {u'msg_id': u'34C4DD44729040FD8DC2BF24CFE0BEAD', u'msg_type': u'execute_request', u'session': u'40AF67ED4B544A858F0517937D371536', u'username': u'username', u'version': u'5.0'}, 'metadata': {}, 'msg_id': u'34C4DD44729040FD8DC2BF24CFE0BEAD', 'msg_type': u'execute_request', 'parent_header': {}})\n    357         if not silent:\n    358             self.execution_count += 1\n    359             self._publish_execute_input(code, parent, self.execution_count)\n    360         \n    361         reply_content = self.do_execute(code, silent, store_history,\n--> 362                                         user_expressions, allow_stdin)\n        user_expressions = {}\n        allow_stdin = True\n    363 \n    364         # Flush output before sending the reply.\n    365         sys.stdout.flush()\n    366         sys.stderr.flush()\n\n...........................................................................\n//anaconda/lib/python2.7/site-packages/IPython/kernel/zmq/ipkernel.py in do_execute(self=<IPython.kernel.zmq.ipkernel.IPythonKernel object>, code=u'# results\\ngs.fit(X_train, Y_train)\\nprint \"Best score:\", gs.best_score_', silent=False, store_history=True, user_expressions={}, allow_stdin=True)\n    176 \n    177         reply_content = {}\n    178         # FIXME: the shell calls the exception handler itself.\n    179         shell._reply_content = None\n    180         try:\n--> 181             shell.run_cell(code, store_history=store_history, silent=silent)\n        shell.run_cell = <bound method ZMQInteractiveShell.run_cell of <I....kernel.zmq.zmqshell.ZMQInteractiveShell object>>\n        code = u'# results\\ngs.fit(X_train, Y_train)\\nprint \"Best score:\", gs.best_score_'\n        store_history = True\n        silent = False\n    182         except:\n    183             status = u'error'\n    184             # FIXME: this code right now isn't being used yet by default,\n    185             # because the run_cell() call above directly fires off exception\n\n...........................................................................\n//anaconda/lib/python2.7/site-packages/IPython/core/interactiveshell.py in run_cell(self=<IPython.kernel.zmq.zmqshell.ZMQInteractiveShell object>, raw_cell=u'# results\\ngs.fit(X_train, Y_train)\\nprint \"Best score:\", gs.best_score_', store_history=True, silent=False, shell_futures=True)\n   2866                 self.displayhook.exec_result = result\n   2867 \n   2868                 # Execute the user code\n   2869                 interactivity = \"none\" if silent else self.ast_node_interactivity\n   2870                 self.run_ast_nodes(code_ast.body, cell_name,\n-> 2871                    interactivity=interactivity, compiler=compiler, result=result)\n        interactivity = 'last_expr'\n        compiler = <IPython.core.compilerop.CachingCompiler instance>\n   2872 \n   2873                 # Reset this so later displayed values do not modify the\n   2874                 # ExecutionResult\n   2875                 self.displayhook.exec_result = None\n\n...........................................................................\n//anaconda/lib/python2.7/site-packages/IPython/core/interactiveshell.py in run_ast_nodes(self=<IPython.kernel.zmq.zmqshell.ZMQInteractiveShell object>, nodelist=[<_ast.Expr object>, <_ast.Print object>], cell_name='<ipython-input-20-1c58da248980>', interactivity='none', compiler=<IPython.core.compilerop.CachingCompiler instance>, result=<IPython.core.interactiveshell.ExecutionResult object>)\n   2970 \n   2971         try:\n   2972             for i, node in enumerate(to_run_exec):\n   2973                 mod = ast.Module([node])\n   2974                 code = compiler(mod, cell_name, \"exec\")\n-> 2975                 if self.run_code(code, result):\n        self.run_code = <bound method ZMQInteractiveShell.run_code of <I....kernel.zmq.zmqshell.ZMQInteractiveShell object>>\n        code = <code object <module> at 0x104452f30, file \"<ipython-input-20-1c58da248980>\", line 2>\n        result = <IPython.core.interactiveshell.ExecutionResult object>\n   2976                     return True\n   2977 \n   2978             for i, node in enumerate(to_run_interactive):\n   2979                 mod = ast.Interactive([node])\n\n...........................................................................\n//anaconda/lib/python2.7/site-packages/IPython/core/interactiveshell.py in run_code(self=<IPython.kernel.zmq.zmqshell.ZMQInteractiveShell object>, code_obj=<code object <module> at 0x104452f30, file \"<ipython-input-20-1c58da248980>\", line 2>, result=<IPython.core.interactiveshell.ExecutionResult object>)\n   3030         outflag = 1  # happens in more places, so it's easier as default\n   3031         try:\n   3032             try:\n   3033                 self.hooks.pre_run_code_hook()\n   3034                 #rprint('Running code', repr(code_obj)) # dbg\n-> 3035                 exec(code_obj, self.user_global_ns, self.user_ns)\n        code_obj = <code object <module> at 0x104452f30, file \"<ipython-input-20-1c58da248980>\", line 2>\n        self.user_global_ns = {'BernoulliNB': <class 'sklearn.naive_bayes.BernoulliNB'>, 'DecisionTreeClassifier': <class 'sklearn.tree.tree.DecisionTreeClassifier'>, 'GaussianNB': <class 'sklearn.naive_bayes.GaussianNB'>, 'GridSearchCV': <class 'sklearn.grid_search.GridSearchCV'>, 'Image': <module 'PIL.Image' from '//anaconda/lib/python2.7/site-packages/PIL/Image.pyc'>, 'In': ['', u'from sklearn.preprocessing import StandardScal...':\\\\n\\' + str(precision_report(models[i]))\\'\\'\\'', u\"# sklearn models\\nfrom sklearn.neighbors impor...d\\nimport numpy as np\\nfrom pprint import pprint\", u'from sklearn.preprocessing import StandardScal...':\\\\n\\' + str(precision_report(models[i]))\\'\\'\\'', u'from sklearn.preprocessing import StandardScal...':\\\\n\\' + str(precision_report(models[i]))\\'\\'\\'', u'from sklearn.preprocessing import StandardScal...':\\\\n\\' + str(precision_report(models[i]))\\'\\'\\'', u'from sklearn.preprocessing import StandardScal...':\\\\n\\' + str(precision_report(models[i]))\\'\\'\\'', u'import math\\nimport cv2\\n\\ndef img_round(x, ba...re(figsize=(width, height))\\n    plt.imshow(img)', u'from sklearn.preprocessing import StandardScal...':\\\\n\\' + str(precision_report(models[i]))\\'\\'\\'', u'from sklearn.preprocessing import StandardScal...':\\\\n\\' + str(precision_report(models[i]))\\'\\'\\'', u'from sklearn.preprocessing import StandardScal...':\\\\n\\' + str(precision_report(models[i]))\\'\\'\\'', u'from sklearn.preprocessing import StandardScal...p.asarray([i.ravel() for i in raw_x])\\ny = raw_y', u'# Standard Scaler\\nss = StandardScaler()\\nx = ...PCA(n_components=1000)\\nx = pca.fit_transform(x)', u\"# params\\nparams_to_try = {\\n    'C': [10**i f...n, Y_train = nudge_dataset(X_train, Y_train, 50)\", u'# results\\ngs.fit(X_train, Y_train)\\nprint \"Be...':\\\\n\\' + str(precision_report(models[i]))\\'\\'\\'', u\"# sklearn models\\nfrom sklearn.neighbors impor...d\\nimport numpy as np\\nfrom pprint import pprint\", u\"# sklearn models\\nfrom sklearn.neighbors impor...d\\nimport numpy as np\\nfrom pprint import pprint\", u'from sklearn.preprocessing import StandardScal...p.asarray([i.ravel() for i in raw_x])\\ny = raw_y', u'# Standard Scaler\\nss = StandardScaler()\\nx = ...PCA(n_components=1000)\\nx = pca.fit_transform(x)', u\"# params\\nparams_to_try = {\\n    'C': [10**i f...n, Y_train = nudge_dataset(X_train, Y_train, 50)\", ...], 'KNeighborsClassifier': <class 'sklearn.neighbors.classification.KNeighborsClassifier'>, 'LinearSVC': <class 'sklearn.svm.classes.LinearSVC'>, 'MultinomialNB': <class 'sklearn.naive_bayes.MultinomialNB'>, 'Out': {}, ...}\n        self.user_ns = {'BernoulliNB': <class 'sklearn.naive_bayes.BernoulliNB'>, 'DecisionTreeClassifier': <class 'sklearn.tree.tree.DecisionTreeClassifier'>, 'GaussianNB': <class 'sklearn.naive_bayes.GaussianNB'>, 'GridSearchCV': <class 'sklearn.grid_search.GridSearchCV'>, 'Image': <module 'PIL.Image' from '//anaconda/lib/python2.7/site-packages/PIL/Image.pyc'>, 'In': ['', u'from sklearn.preprocessing import StandardScal...':\\\\n\\' + str(precision_report(models[i]))\\'\\'\\'', u\"# sklearn models\\nfrom sklearn.neighbors impor...d\\nimport numpy as np\\nfrom pprint import pprint\", u'from sklearn.preprocessing import StandardScal...':\\\\n\\' + str(precision_report(models[i]))\\'\\'\\'', u'from sklearn.preprocessing import StandardScal...':\\\\n\\' + str(precision_report(models[i]))\\'\\'\\'', u'from sklearn.preprocessing import StandardScal...':\\\\n\\' + str(precision_report(models[i]))\\'\\'\\'', u'from sklearn.preprocessing import StandardScal...':\\\\n\\' + str(precision_report(models[i]))\\'\\'\\'', u'import math\\nimport cv2\\n\\ndef img_round(x, ba...re(figsize=(width, height))\\n    plt.imshow(img)', u'from sklearn.preprocessing import StandardScal...':\\\\n\\' + str(precision_report(models[i]))\\'\\'\\'', u'from sklearn.preprocessing import StandardScal...':\\\\n\\' + str(precision_report(models[i]))\\'\\'\\'', u'from sklearn.preprocessing import StandardScal...':\\\\n\\' + str(precision_report(models[i]))\\'\\'\\'', u'from sklearn.preprocessing import StandardScal...p.asarray([i.ravel() for i in raw_x])\\ny = raw_y', u'# Standard Scaler\\nss = StandardScaler()\\nx = ...PCA(n_components=1000)\\nx = pca.fit_transform(x)', u\"# params\\nparams_to_try = {\\n    'C': [10**i f...n, Y_train = nudge_dataset(X_train, Y_train, 50)\", u'# results\\ngs.fit(X_train, Y_train)\\nprint \"Be...':\\\\n\\' + str(precision_report(models[i]))\\'\\'\\'', u\"# sklearn models\\nfrom sklearn.neighbors impor...d\\nimport numpy as np\\nfrom pprint import pprint\", u\"# sklearn models\\nfrom sklearn.neighbors impor...d\\nimport numpy as np\\nfrom pprint import pprint\", u'from sklearn.preprocessing import StandardScal...p.asarray([i.ravel() for i in raw_x])\\ny = raw_y', u'# Standard Scaler\\nss = StandardScaler()\\nx = ...PCA(n_components=1000)\\nx = pca.fit_transform(x)', u\"# params\\nparams_to_try = {\\n    'C': [10**i f...n, Y_train = nudge_dataset(X_train, Y_train, 50)\", ...], 'KNeighborsClassifier': <class 'sklearn.neighbors.classification.KNeighborsClassifier'>, 'LinearSVC': <class 'sklearn.svm.classes.LinearSVC'>, 'MultinomialNB': <class 'sklearn.naive_bayes.MultinomialNB'>, 'Out': {}, ...}\n   3036             finally:\n   3037                 # Reset our crash handler in place\n   3038                 sys.excepthook = old_excepthook\n   3039         except SystemExit as e:\n\n...........................................................................\n/Users/derekjanni/PyOCR/<ipython-input-20-1c58da248980> in <module>()\n      1 \n----> 2 \n      3 \n      4 \n      5 # results\n      6 gs.fit(X_train, Y_train)\n      7 print \"Best score:\", gs.best_score_\n      8 \n      9 \n     10 \n\n...........................................................................\n//anaconda/lib/python2.7/site-packages/sklearn/grid_search.py in fit(self=GridSearchCV(cv=3, error_score='raise',\n       e...e_func=None,\n       scoring='roc_auc', verbose=0), X=array([[ -4.76116885e+00,   4.75162781e+00,  -2....883263e-16,   4.69638395e-16,   3.67009761e-16]]), y=array(['L', 'e', 'B', ..., 'v', 'J', 'R'], dtype=object))\n    727         y : array-like, shape = [n_samples] or [n_samples, n_output], optional\n    728             Target relative to X for classification or regression;\n    729             None for unsupervised learning.\n    730 \n    731         \"\"\"\n--> 732         return self._fit(X, y, ParameterGrid(self.param_grid))\n        self._fit = <bound method GridSearchCV._fit of GridSearchCV(..._func=None,\n       scoring='roc_auc', verbose=0)>\n        X = array([[ -4.76116885e+00,   4.75162781e+00,  -2....883263e-16,   4.69638395e-16,   3.67009761e-16]])\n        y = array(['L', 'e', 'B', ..., 'v', 'J', 'R'], dtype=object)\n        self.param_grid = {'C': [1, 10], 'gamma': [1e-07, 1e-06]}\n    733 \n    734 \n    735 class RandomizedSearchCV(BaseSearchCV):\n    736     \"\"\"Randomized search on hyper parameters.\n\n...........................................................................\n//anaconda/lib/python2.7/site-packages/sklearn/grid_search.py in _fit(self=GridSearchCV(cv=3, error_score='raise',\n       e...e_func=None,\n       scoring='roc_auc', verbose=0), X=array([[ -4.76116885e+00,   4.75162781e+00,  -2....883263e-16,   4.69638395e-16,   3.67009761e-16]]), y=array(['L', 'e', 'B', ..., 'v', 'J', 'R'], dtype=object), parameter_iterable=<sklearn.grid_search.ParameterGrid object>)\n    500         )(\n    501             delayed(_fit_and_score)(clone(base_estimator), X, y, self.scorer_,\n    502                                     train, test, self.verbose, parameters,\n    503                                     self.fit_params, return_parameters=True,\n    504                                     error_score=self.error_score)\n--> 505                 for parameters in parameter_iterable\n        parameters = undefined\n        parameter_iterable = <sklearn.grid_search.ParameterGrid object>\n    506                 for train, test in cv)\n    507 \n    508         # Out is a list of triplet: score, estimator, n_test_samples\n    509         n_fits = len(out)\n\n...........................................................................\n//anaconda/lib/python2.7/site-packages/sklearn/externals/joblib/parallel.py in __call__(self=Parallel(n_jobs=4), iterable=<itertools.islice object>)\n    661             if pre_dispatch == \"all\" or n_jobs == 1:\n    662                 # The iterable was consumed all at once by the above for loop.\n    663                 # No need to wait for async callbacks to trigger to\n    664                 # consumption.\n    665                 self._iterating = False\n--> 666             self.retrieve()\n        self.retrieve = <bound method Parallel.retrieve of Parallel(n_jobs=4)>\n    667             # Make sure that we get a last message telling us we are done\n    668             elapsed_time = time.time() - self._start_time\n    669             self._print('Done %3i out of %3i | elapsed: %s finished',\n    670                         (len(self._output),\n\n    ---------------------------------------------------------------------------\n    Sub-process traceback:\n    ---------------------------------------------------------------------------\n    ValueError                                         Mon Aug 24 11:13:31 2015\nPID: 6842                              Python 2.7.10: //anaconda/bin/python\n...........................................................................\n//anaconda/lib/python2.7/site-packages/sklearn/cross_validation.pyc in _fit_and_score(estimator=SVC(C=1, cache_size=200, class_weight='auto', co...e=None, shrinking=True, tol=0.001, verbose=False), X=array([[ -4.76116885e+00,   4.75162781e+00,  -2....883263e-16,   4.69638395e-16,   3.67009761e-16]]), y=array(['L', 'e', 'B', ..., 'v', 'J', 'R'], dtype=object), scorer=make_scorer(roc_auc_score, needs_threshold=True), train=array([ 932,  978, 1109, ..., 5023, 5024, 5025]), test=array([   0,    1,    2, ..., 2310, 2319, 2473]), verbose=0, parameters={'C': 1, 'gamma': 1e-07}, fit_params={}, return_train_score=False, return_parameters=True, error_score='raise')\n   1473                              \" numeric value. (Hint: if using 'raise', please\"\n   1474                              \" make sure that it has been spelled correctly.)\"\n   1475                              )\n   1476 \n   1477     else:\n-> 1478         test_score = _score(estimator, X_test, y_test, scorer)\n   1479         if return_train_score:\n   1480             train_score = _score(estimator, X_train, y_train, scorer)\n   1481 \n   1482     scoring_time = time.time() - start_time\n\n...........................................................................\n//anaconda/lib/python2.7/site-packages/sklearn/cross_validation.pyc in _score(estimator=SVC(C=1, cache_size=200, class_weight='auto', co...e=None, shrinking=True, tol=0.001, verbose=False), X_test=array([[ -4.76116885e+00,   4.75162781e+00,  -2....541808e-16,   5.25932293e-16,   5.11952836e-16]]), y_test=array(['L', 'e', 'B', ..., 'p', 'x', '2'], dtype=object), scorer=make_scorer(roc_auc_score, needs_threshold=True))\n   1529 def _score(estimator, X_test, y_test, scorer):\n   1530     \"\"\"Compute the score of an estimator on a given test set.\"\"\"\n   1531     if y_test is None:\n   1532         score = scorer(estimator, X_test)\n   1533     else:\n-> 1534         score = scorer(estimator, X_test, y_test)\n   1535     if not isinstance(score, numbers.Number):\n   1536         raise ValueError(\"scoring must return a number, got %s (%s) instead.\"\n   1537                          % (str(score), type(score)))\n   1538     return score\n\n...........................................................................\n//anaconda/lib/python2.7/site-packages/sklearn/metrics/scorer.pyc in __call__(self=make_scorer(roc_auc_score, needs_threshold=True), clf=SVC(C=1, cache_size=200, class_weight='auto', co...e=None, shrinking=True, tol=0.001, verbose=False), X=array([[ -4.76116885e+00,   4.75162781e+00,  -2....541808e-16,   5.25932293e-16,   5.11952836e-16]]), y=array(['L', 'e', 'B', ..., 'p', 'x', '2'], dtype=object), sample_weight=None)\n    153         score : float\n    154             Score function applied to prediction of estimator on X.\n    155         \"\"\"\n    156         y_type = type_of_target(y)\n    157         if y_type not in (\"binary\", \"multilabel-indicator\"):\n--> 158             raise ValueError(\"{0} format is not supported\".format(y_type))\n    159 \n    160         try:\n    161             y_pred = clf.decision_function(X)\n    162 \n\nValueError: multiclass format is not supported\n___________________________________________________________________________"
     ]
    }
   ],
   "source": [
    "# results\n",
    "gs.fit(X_train, Y_train)\n",
    "print \"Best score:\", gs.best_score_"
   ]
  },
  {
   "cell_type": "code",
   "execution_count": null,
   "metadata": {
    "collapsed": false
   },
   "outputs": [],
   "source": [
    "def precision_report(model):\n",
    "    model.fit(X_train, Y_train)\n",
    "    Y_pred = model.predict(X_test)\n",
    "    return classification_report(Y_test, Y_pred)\n",
    "\n",
    "for i in models:\n",
    "    print i + ':\\n' + str(precision_report(models[i]))"
   ]
  },
  {
   "cell_type": "markdown",
   "metadata": {},
   "source": [
    "Again, the accuracy scores are of interest"
   ]
  },
  {
   "cell_type": "code",
   "execution_count": 31,
   "metadata": {
    "collapsed": false
   },
   "outputs": [
    {
     "name": "stdout",
     "output_type": "stream",
     "text": [
      "Bernoulli Naive Bayes:\n",
      "0.222151495863\n",
      "(5) K-Nearest Neighbors:\n",
      "0.50732017823\n",
      "Random Forest Classifier:\n",
      "0.301718650541\n"
     ]
    }
   ],
   "source": [
    "for i in models:\n",
    "    print i + ':\\n' + str(accuracy_report(models[i]))"
   ]
  },
  {
   "cell_type": "markdown",
   "metadata": {},
   "source": [
    "$\\S 6:$ **Sending the data to JSON for visualization**\n",
    "    \n",
    "In my opinion, the confusion matrix for this problem is one of the most interesting visuals I can generate! It's a great summary of where the KNN model fails and might help show *why* it fails as well.\n"
   ]
  },
  {
   "cell_type": "code",
   "execution_count": null,
   "metadata": {
    "collapsed": true
   },
   "outputs": [],
   "source": [
    "with open('knn.pkl') as picklefile:\n",
    "    knn = pickle.load(picklefile)\n",
    "\n",
    "#test/train split    \n",
    "X_train, X_test, Y_train, Y_test = train_test_split(x, y, test_size=0.33, random_state=42)\n",
    "\n",
    "#nudge dataset improves performance: test and see!\n",
    "X_train, Y_train = nudge_dataset(X_train, Y_train, 50)\n",
    "\n",
    "knn.fit(X_train, Y_train)\n",
    "Y_pred = knn.predict(X_test)"
   ]
  },
  {
   "cell_type": "code",
   "execution_count": null,
   "metadata": {
    "collapsed": false
   },
   "outputs": [],
   "source": [
    "from sklearn.metrics import confusion_matrix\n",
    "cm = confusion_matrix(Y_test, Y_pred)"
   ]
  },
  {
   "cell_type": "code",
   "execution_count": null,
   "metadata": {
    "collapsed": false
   },
   "outputs": [],
   "source": [
    "#normalize confusion matrix\n",
    "from scipy.stats import zscore\n",
    "cm = cm.astype('float') / cm.sum(axis=1)[:, np.newaxis] \n",
    "print cm.shape"
   ]
  },
  {
   "cell_type": "code",
   "execution_count": null,
   "metadata": {
    "collapsed": true
   },
   "outputs": [],
   "source": [
    "columns = [\"0\",\n",
    "        \"1\",\n",
    "        \"2\",\n",
    "        \"3\",\n",
    "        \"4\", \n",
    "        \"5\", \n",
    "        \"6\", \n",
    "        \"7\", \n",
    "        \"8\", \n",
    "        \"9\", \n",
    "        \"A\",\n",
    "        \"B\", \n",
    "        \"C\", \n",
    "        \"D\", \n",
    "        \"E\", \n",
    "        \"F\", \n",
    "        \"G\", \n",
    "        \"H\", \n",
    "        \"I\", \n",
    "        \"J\", \n",
    "        \"K\", \n",
    "        \"L\",\n",
    "        \"M\",\n",
    "        \"N\", \n",
    "        \"O\", \n",
    "        \"P\", \n",
    "        \"Q\", \n",
    "        \"R\", \n",
    "        \"S\", \n",
    "        \"T\", \n",
    "        \"U\", \n",
    "        \"V\", \n",
    "        \"W\", \n",
    "        \"X\",\n",
    "        \"Y\",\n",
    "        \"Z\", \n",
    "        \"a\", \n",
    "        \"b\", \n",
    "        \"c\", \n",
    "        \"d\", \n",
    "        \"e\", \n",
    "        \"f\", \n",
    "        \"g\", \n",
    "        \"h\", \n",
    "        \"i\", \n",
    "        \"j\",\n",
    "        \"k\",\n",
    "        \"l\",\n",
    "        \"m\",\n",
    "        \"n\",\n",
    "        \"o\",\n",
    "        \"p\",\n",
    "        \"q\", \n",
    "        \"r\",\n",
    "        \"s\",\n",
    "        \"t\",\n",
    "        \"u\",\n",
    "        \"v\",\n",
    "        \"w\",\n",
    "        \"x\",\n",
    "        \"y\",\n",
    "        \"z\"\n",
    "        ];"
   ]
  },
  {
   "cell_type": "code",
   "execution_count": null,
   "metadata": {
    "collapsed": true
   },
   "outputs": [],
   "source": [
    "rows = [\"0\",\n",
    "        \"1\",\n",
    "        \"2\",\n",
    "        \"3\",\n",
    "        \"4\", \n",
    "        \"5\", \n",
    "        \"6\", \n",
    "        \"7\", \n",
    "        \"8\", \n",
    "        \"9\", \n",
    "        \"A\",\n",
    "        \"B\", \n",
    "        \"C\", \n",
    "        \"D\", \n",
    "        \"E\", \n",
    "        \"F\", \n",
    "        \"G\", \n",
    "        \"H\", \n",
    "        \"I\", \n",
    "        \"J\", \n",
    "        \"K\", \n",
    "        \"L\",\n",
    "        \"M\",\n",
    "        \"N\", \n",
    "        \"O\", \n",
    "        \"P\", \n",
    "        \"Q\", \n",
    "        \"R\", \n",
    "        \"S\", \n",
    "        \"T\", \n",
    "        \"U\", \n",
    "        \"V\", \n",
    "        \"W\", \n",
    "        \"X\",\n",
    "        \"Y\",\n",
    "        \"Z\", \n",
    "        \"a\", \n",
    "        \"b\", \n",
    "        \"c\", \n",
    "        \"d\", \n",
    "        \"e\", \n",
    "        \"f\", \n",
    "        \"g\", \n",
    "        \"h\", \n",
    "        \"i\", \n",
    "        \"j\",\n",
    "        \"k\",\n",
    "        \"l\",\n",
    "        \"m\",\n",
    "        \"n\",\n",
    "        \"o\",\n",
    "        \"p\",\n",
    "        \"q\", \n",
    "        \"r\",\n",
    "        \"s\",\n",
    "        \"t\",\n",
    "        \"u\",\n",
    "        \"v\",\n",
    "        \"w\",\n",
    "        \"x\",\n",
    "        \"y\",\n",
    "        \"z\"\n",
    "        ];"
   ]
  },
  {
   "cell_type": "code",
   "execution_count": null,
   "metadata": {
    "collapsed": false
   },
   "outputs": [],
   "source": [
    "data = list(list(i) for i in cm)"
   ]
  },
  {
   "cell_type": "code",
   "execution_count": null,
   "metadata": {
    "collapsed": false
   },
   "outputs": [],
   "source": [
    "knn_data = {\n",
    "    \"columns\": [list([\"R\", i]) for i  in columns],\n",
    "    \"index\": [list(i) for i in rows],\n",
    "    \"data\": data,\n",
    "}\n",
    "\n",
    "knn_numbers = {\n",
    "    \"columns\": [list([\"R\", i]) for i  in columns[:10]],\n",
    "    \"index\": [list(i) for i in rows[:10]],\n",
    "    \"data\": [i[:10] for i in data[:10]],\n",
    "}\n",
    "\n",
    "knn_caps = {\n",
    "    \"columns\": [list([\"R\", i]) for i  in columns[10:36]],\n",
    "    \"index\": [list(i) for i in rows[10:36]],\n",
    "    \"data\": [i[10:36] for i in data[10:36]],\n",
    "}\n",
    "\n",
    "knn_lower = {\n",
    "    \"columns\": [list([\"R\", i]) for i  in columns[36:]],\n",
    "    \"index\": [list(i) for i in rows[36:]],\n",
    "    \"data\": [i[36:] for i in data[36:]],\n",
    "}\n"
   ]
  },
  {
   "cell_type": "code",
   "execution_count": null,
   "metadata": {
    "collapsed": false
   },
   "outputs": [],
   "source": [
    "import json\n",
    "\n",
    "with open('knn_data.json', 'w') as outfile:\n",
    "    json.dump(knn_data, outfile)\n",
    "\n",
    "with open('knn_numbers.json', 'w') as outfile:\n",
    "    json.dump(knn_numbers, outfile)\n",
    "      \n",
    "with open('knn_caps.json', 'w') as outfile:\n",
    "    json.dump(knn_caps, outfile)\n",
    "\n",
    "with open('knn_lower.json', 'w') as outfile:\n",
    "    json.dump(knn_lower, outfile)"
   ]
  },
  {
   "cell_type": "code",
   "execution_count": null,
   "metadata": {
    "collapsed": true
   },
   "outputs": [],
   "source": []
  },
  {
   "cell_type": "code",
   "execution_count": 47,
   "metadata": {
    "collapsed": false
   },
   "outputs": [
    {
     "name": "stdout",
     "output_type": "stream",
     "text": [
      "(3, 2500) (3,)\n",
      "(90, 2500) (90,)\n"
     ]
    }
   ],
   "source": [
    "def get_img(i, size):\n",
    "    \"\"\"\n",
    "    Returns a binary image from my file directory with index i\n",
    "    \"\"\"\n",
    "    img = Image.open('/users/derekjanni/pyocr/train/'+ str(i+1) + '.Bmp')\n",
    "    img = img.convert(\"L\")\n",
    "    img = img.resize((size,size))\n",
    "    image = np.asarray(img)\n",
    "    image.setflags(write=True)\n",
    "    thresh = threshold_otsu(image)\n",
    "    binary = image > thresh\n",
    "    return binary\n",
    "\n",
    "def nudge_dataset(X, Y, size):\n",
    "    \"\"\"\n",
    "    This produces a dataset 5 times bigger than the original one,\n",
    "    by moving the (size x size) images around by 1px to left, right, down, up\n",
    "    \"\"\"\n",
    "    direction_vectors = [\n",
    "        [[0, 1, 0],\n",
    "         [0, 0, 0],\n",
    "         [0, 0, 0]],\n",
    "\n",
    "        [[0, 0, 0],\n",
    "         [1, 0, 0],\n",
    "         [0, 0, 0]],\n",
    "\n",
    "        [[0, 0, 0],\n",
    "         [0, 0, 1],\n",
    "         [0, 0, 0]],\n",
    "\n",
    "        [[0, 0, 0],\n",
    "         [0, 0, 0],\n",
    "         [0, 1, 0]]]\n",
    "\n",
    "    shift = lambda x, w: convolve(x.reshape((size, size)), mode='constant',\n",
    "                                  weights=w).ravel()\n",
    "    #add nudged data\n",
    "    X = np.concatenate([X] +\n",
    "                       [np.apply_along_axis(shift, 1, X, vector)\n",
    "                        for vector in direction_vectors])\n",
    "    Y = np.concatenate([Y for _ in range(5)], axis=0)\n",
    "    #add warps\n",
    "    Y_pre_warp = Y\n",
    "    X_pre_warp = X\n",
    "    for i in range(-30, 31, 15):\n",
    "        M = cv2.getRotationMatrix2D((size,size),i,1)\n",
    "        X = np.concatenate([X] + [np.asarray([cv2.warpAffine(x_, M, (size,size)).ravel() for x_ in X_pre_warp])])\n",
    "        Y = np.concatenate((Y, Y_pre_warp), axis=0)\n",
    "    return X, Y\n",
    "\n",
    "\n",
    "X1 = np.asarray([get_img(i, 50).ravel() for i in range(1, 4)]).astype(float)\n",
    "Y1 = np.asarray(['n' for i in range(len(X1))])\n",
    "print X1.shape, Y1.shape\n",
    "newx, newy = nudge_dataset(X1, Y1, 50)\n",
    "print newx.shape, newy.shape\n",
    "\n",
    "def show_img(img):\n",
    "    width = 5.0\n",
    "    height = img.shape[0]*width/img.shape[1]\n",
    "    f = plt.figure(figsize=(width, height))\n",
    "    plt.imshow(img)"
   ]
  },
  {
   "cell_type": "code",
   "execution_count": null,
   "metadata": {
    "collapsed": true
   },
   "outputs": [],
   "source": []
  }
 ],
 "metadata": {
  "kernelspec": {
   "display_name": "Python 2",
   "language": "python",
   "name": "python2"
  },
  "language_info": {
   "codemirror_mode": {
    "name": "ipython",
    "version": 2
   },
   "file_extension": ".py",
   "mimetype": "text/x-python",
   "name": "python",
   "nbconvert_exporter": "python",
   "pygments_lexer": "ipython2",
   "version": "2.7.10"
  }
 },
 "nbformat": 4,
 "nbformat_minor": 0
}
